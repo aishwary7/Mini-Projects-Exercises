{
  "nbformat": 4,
  "nbformat_minor": 0,
  "metadata": {
    "colab": {
      "name": "Aishwary Jadhav - Lab3-2:Regression Analysis and Modelling-Logistic Regression.ipynb",
      "provenance": [],
      "collapsed_sections": []
    },
    "kernelspec": {
      "name": "ir",
      "display_name": "R"
    }
  },
  "cells": [
    {
      "cell_type": "code",
      "metadata": {
        "id": "PoPUdkJIf-WL",
        "colab_type": "code",
        "colab": {
          "base_uri": "https://localhost:8080/",
          "height": 277
        },
        "outputId": "971f5aad-1028-4515-f5e6-0bbf1d9e0ff9"
      },
      "source": [
        "version"
      ],
      "execution_count": null,
      "outputs": [
        {
          "output_type": "display_data",
          "data": {
            "text/plain": [
              "               _                           \n",
              "platform       x86_64-pc-linux-gnu         \n",
              "arch           x86_64                      \n",
              "os             linux-gnu                   \n",
              "system         x86_64, linux-gnu           \n",
              "status                                     \n",
              "major          3                           \n",
              "minor          6.3                         \n",
              "year           2020                        \n",
              "month          02                          \n",
              "day            29                          \n",
              "svn rev        77875                       \n",
              "language       R                           \n",
              "version.string R version 3.6.3 (2020-02-29)\n",
              "nickname       Holding the Windsock        "
            ]
          },
          "metadata": {
            "tags": []
          }
        }
      ]
    },
    {
      "cell_type": "code",
      "metadata": {
        "id": "xna6sGBMmPV2",
        "colab_type": "code",
        "colab": {}
      },
      "source": [
        "df<-read.csv(\"binary.csv\")"
      ],
      "execution_count": 15,
      "outputs": []
    },
    {
      "cell_type": "code",
      "metadata": {
        "id": "Pr6fKl5bznq1",
        "colab_type": "code",
        "colab": {
          "base_uri": "https://localhost:8080/",
          "height": 104
        },
        "outputId": "7e2578fa-fadf-4984-a077-a027788ce059"
      },
      "source": [
        "str(df)"
      ],
      "execution_count": 17,
      "outputs": [
        {
          "output_type": "stream",
          "text": [
            "'data.frame':\t400 obs. of  4 variables:\n",
            " $ admit: int  0 1 1 1 0 1 1 0 1 0 ...\n",
            " $ gre  : int  380 660 800 640 520 760 560 400 540 700 ...\n",
            " $ gpa  : num  3.61 3.67 4 3.19 2.93 3 2.98 3.08 3.39 3.92 ...\n",
            " $ rank : int  3 3 1 4 4 2 1 2 3 2 ...\n"
          ],
          "name": "stdout"
        }
      ]
    },
    {
      "cell_type": "code",
      "metadata": {
        "id": "VzHruPbEz0Zl",
        "colab_type": "code",
        "colab": {
          "base_uri": "https://localhost:8080/",
          "height": 202
        },
        "outputId": "18d1737e-1249-4a1d-85d9-0af31a564fe5"
      },
      "source": [
        "head(df)"
      ],
      "execution_count": 18,
      "outputs": [
        {
          "output_type": "display_data",
          "data": {
            "text/plain": [
              "  admit gre gpa  rank\n",
              "1 0     380 3.61 3   \n",
              "2 1     660 3.67 3   \n",
              "3 1     800 4.00 1   \n",
              "4 1     640 3.19 4   \n",
              "5 0     520 2.93 4   \n",
              "6 1     760 3.00 2   "
            ],
            "text/latex": "A data.frame: 6 × 4\n\\begin{tabular}{r|llll}\n  & admit & gre & gpa & rank\\\\\n  & <int> & <int> & <dbl> & <int>\\\\\n\\hline\n\t1 & 0 & 380 & 3.61 & 3\\\\\n\t2 & 1 & 660 & 3.67 & 3\\\\\n\t3 & 1 & 800 & 4.00 & 1\\\\\n\t4 & 1 & 640 & 3.19 & 4\\\\\n\t5 & 0 & 520 & 2.93 & 4\\\\\n\t6 & 1 & 760 & 3.00 & 2\\\\\n\\end{tabular}\n",
            "text/markdown": "\nA data.frame: 6 × 4\n\n| <!--/--> | admit &lt;int&gt; | gre &lt;int&gt; | gpa &lt;dbl&gt; | rank &lt;int&gt; |\n|---|---|---|---|---|\n| 1 | 0 | 380 | 3.61 | 3 |\n| 2 | 1 | 660 | 3.67 | 3 |\n| 3 | 1 | 800 | 4.00 | 1 |\n| 4 | 1 | 640 | 3.19 | 4 |\n| 5 | 0 | 520 | 2.93 | 4 |\n| 6 | 1 | 760 | 3.00 | 2 |\n\n",
            "text/html": [
              "<table>\n",
              "<caption>A data.frame: 6 × 4</caption>\n",
              "<thead>\n",
              "\t<tr><th></th><th scope=col>admit</th><th scope=col>gre</th><th scope=col>gpa</th><th scope=col>rank</th></tr>\n",
              "\t<tr><th></th><th scope=col>&lt;int&gt;</th><th scope=col>&lt;int&gt;</th><th scope=col>&lt;dbl&gt;</th><th scope=col>&lt;int&gt;</th></tr>\n",
              "</thead>\n",
              "<tbody>\n",
              "\t<tr><th scope=row>1</th><td>0</td><td>380</td><td>3.61</td><td>3</td></tr>\n",
              "\t<tr><th scope=row>2</th><td>1</td><td>660</td><td>3.67</td><td>3</td></tr>\n",
              "\t<tr><th scope=row>3</th><td>1</td><td>800</td><td>4.00</td><td>1</td></tr>\n",
              "\t<tr><th scope=row>4</th><td>1</td><td>640</td><td>3.19</td><td>4</td></tr>\n",
              "\t<tr><th scope=row>5</th><td>0</td><td>520</td><td>2.93</td><td>4</td></tr>\n",
              "\t<tr><th scope=row>6</th><td>1</td><td>760</td><td>3.00</td><td>2</td></tr>\n",
              "</tbody>\n",
              "</table>\n"
            ]
          },
          "metadata": {
            "tags": []
          }
        }
      ]
    },
    {
      "cell_type": "code",
      "metadata": {
        "id": "ndwTZxgs0k9e",
        "colab_type": "code",
        "colab": {
          "base_uri": "https://localhost:8080/",
          "height": 202
        },
        "outputId": "41d754e8-6ab0-4be7-8b07-2be490bd3151"
      },
      "source": [
        "tail(df)\n",
        "\n",
        "#The head function prints the first 6 values. The tail fn prints the last 6 values."
      ],
      "execution_count": 19,
      "outputs": [
        {
          "output_type": "display_data",
          "data": {
            "text/plain": [
              "    admit gre gpa  rank\n",
              "395 1     460 3.99 3   \n",
              "396 0     620 4.00 2   \n",
              "397 0     560 3.04 3   \n",
              "398 0     460 2.63 2   \n",
              "399 0     700 3.65 2   \n",
              "400 0     600 3.89 3   "
            ],
            "text/latex": "A data.frame: 6 × 4\n\\begin{tabular}{r|llll}\n  & admit & gre & gpa & rank\\\\\n  & <int> & <int> & <dbl> & <int>\\\\\n\\hline\n\t395 & 1 & 460 & 3.99 & 3\\\\\n\t396 & 0 & 620 & 4.00 & 2\\\\\n\t397 & 0 & 560 & 3.04 & 3\\\\\n\t398 & 0 & 460 & 2.63 & 2\\\\\n\t399 & 0 & 700 & 3.65 & 2\\\\\n\t400 & 0 & 600 & 3.89 & 3\\\\\n\\end{tabular}\n",
            "text/markdown": "\nA data.frame: 6 × 4\n\n| <!--/--> | admit &lt;int&gt; | gre &lt;int&gt; | gpa &lt;dbl&gt; | rank &lt;int&gt; |\n|---|---|---|---|---|\n| 395 | 1 | 460 | 3.99 | 3 |\n| 396 | 0 | 620 | 4.00 | 2 |\n| 397 | 0 | 560 | 3.04 | 3 |\n| 398 | 0 | 460 | 2.63 | 2 |\n| 399 | 0 | 700 | 3.65 | 2 |\n| 400 | 0 | 600 | 3.89 | 3 |\n\n",
            "text/html": [
              "<table>\n",
              "<caption>A data.frame: 6 × 4</caption>\n",
              "<thead>\n",
              "\t<tr><th></th><th scope=col>admit</th><th scope=col>gre</th><th scope=col>gpa</th><th scope=col>rank</th></tr>\n",
              "\t<tr><th></th><th scope=col>&lt;int&gt;</th><th scope=col>&lt;int&gt;</th><th scope=col>&lt;dbl&gt;</th><th scope=col>&lt;int&gt;</th></tr>\n",
              "</thead>\n",
              "<tbody>\n",
              "\t<tr><th scope=row>395</th><td>1</td><td>460</td><td>3.99</td><td>3</td></tr>\n",
              "\t<tr><th scope=row>396</th><td>0</td><td>620</td><td>4.00</td><td>2</td></tr>\n",
              "\t<tr><th scope=row>397</th><td>0</td><td>560</td><td>3.04</td><td>3</td></tr>\n",
              "\t<tr><th scope=row>398</th><td>0</td><td>460</td><td>2.63</td><td>2</td></tr>\n",
              "\t<tr><th scope=row>399</th><td>0</td><td>700</td><td>3.65</td><td>2</td></tr>\n",
              "\t<tr><th scope=row>400</th><td>0</td><td>600</td><td>3.89</td><td>3</td></tr>\n",
              "</tbody>\n",
              "</table>\n"
            ]
          },
          "metadata": {
            "tags": []
          }
        }
      ]
    },
    {
      "cell_type": "code",
      "metadata": {
        "id": "2KpBaFhx2h50",
        "colab_type": "code",
        "colab": {
          "base_uri": "https://localhost:8080/",
          "height": 139
        },
        "outputId": "64d79d7e-b477-4693-bc67-98b325c8219f"
      },
      "source": [
        "summary(df)  # Formulating the summary of the dataset"
      ],
      "execution_count": 20,
      "outputs": [
        {
          "output_type": "display_data",
          "data": {
            "text/plain": [
              "     admit             gre             gpa             rank      \n",
              " Min.   :0.0000   Min.   :220.0   Min.   :2.260   Min.   :1.000  \n",
              " 1st Qu.:0.0000   1st Qu.:520.0   1st Qu.:3.130   1st Qu.:2.000  \n",
              " Median :0.0000   Median :580.0   Median :3.395   Median :2.000  \n",
              " Mean   :0.3175   Mean   :587.7   Mean   :3.390   Mean   :2.485  \n",
              " 3rd Qu.:1.0000   3rd Qu.:660.0   3rd Qu.:3.670   3rd Qu.:3.000  \n",
              " Max.   :1.0000   Max.   :800.0   Max.   :4.000   Max.   :4.000  "
            ]
          },
          "metadata": {
            "tags": []
          }
        }
      ]
    },
    {
      "cell_type": "code",
      "metadata": {
        "id": "OLGNp1033ANT",
        "colab_type": "code",
        "colab": {
          "base_uri": "https://localhost:8080/",
          "height": 69
        },
        "outputId": "99d50eba-4bc7-4a5d-ef71-b28b370c52a9"
      },
      "source": [
        "table(df$admit)"
      ],
      "execution_count": 21,
      "outputs": [
        {
          "output_type": "display_data",
          "data": {
            "text/plain": [
              "\n",
              "  0   1 \n",
              "273 127 "
            ]
          },
          "metadata": {
            "tags": []
          }
        }
      ]
    },
    {
      "cell_type": "code",
      "metadata": {
        "id": "i7BJzPA94sSD",
        "colab_type": "code",
        "colab": {
          "base_uri": "https://localhost:8080/",
          "height": 437
        },
        "outputId": "e669383b-aa81-42e7-cbfb-f28750354c02"
      },
      "source": [
        "plot(df$admit)"
      ],
      "execution_count": 23,
      "outputs": [
        {
          "output_type": "display_data",
          "data": {
            "image/png": "[encoded data removed]",
            "text/plain": [
              "plot without title"
            ]
          },
          "metadata": {
            "tags": [],
            "image/png": {
              "width": 420,
              "height": 420
            }
          }
        }
      ]
    },
    {
      "cell_type": "code",
      "metadata": {
        "id": "w6PuIWeb5BFs",
        "colab_type": "code",
        "colab": {}
      },
      "source": [
        "library(ggplot2)"
      ],
      "execution_count": 24,
      "outputs": []
    },
    {
      "cell_type": "code",
      "metadata": {
        "id": "DbkkduQq41mv",
        "colab_type": "code",
        "colab": {}
      },
      "source": [
        "df$admit = as.factor(df$admit)\n",
        "\n",
        "#This is the data preprocessing step"
      ],
      "execution_count": 25,
      "outputs": []
    },
    {
      "cell_type": "code",
      "metadata": {
        "id": "7PbGKciG7T7z",
        "colab_type": "code",
        "colab": {}
      },
      "source": [
        "df$rank = as.factor(df$rank)"
      ],
      "execution_count": 26,
      "outputs": []
    },
    {
      "cell_type": "code",
      "metadata": {
        "id": "Mxyj__0NF-WW",
        "colab_type": "code",
        "colab": {
          "base_uri": "https://localhost:8080/",
          "height": 104
        },
        "outputId": "6da3a5ea-b2a8-4c90-8d7e-8176f6ec1b49"
      },
      "source": [
        "str(df) #recheck the data set after changing rhe data type : int to factor"
      ],
      "execution_count": 70,
      "outputs": [
        {
          "output_type": "stream",
          "text": [
            "'data.frame':\t400 obs. of  4 variables:\n",
            " $ admit: Factor w/ 2 levels \"0\",\"1\": 1 2 2 2 1 2 2 1 2 1 ...\n",
            " $ gre  : int  380 660 800 640 520 760 560 400 540 700 ...\n",
            " $ gpa  : num  3.61 3.67 4 3.19 2.93 3 2.98 3.08 3.39 3.92 ...\n",
            " $ rank : Factor w/ 4 levels \"1\",\"2\",\"3\",\"4\": 3 3 1 4 4 2 1 2 3 2 ...\n"
          ],
          "name": "stdout"
        }
      ]
    },
    {
      "cell_type": "code",
      "metadata": {
        "id": "s4C_-mG87ncx",
        "colab_type": "code",
        "colab": {
          "base_uri": "https://localhost:8080/",
          "height": 87
        },
        "outputId": "e3dad3f9-ba53-445b-a518-98244aca10ed"
      },
      "source": [
        "xtabs(~admit+ rank, data=df)\n",
        "\n",
        "#concept of cross tabs, to find if there is any null value"
      ],
      "execution_count": 28,
      "outputs": [
        {
          "output_type": "display_data",
          "data": {
            "text/plain": [
              "     rank\n",
              "admit  1  2  3  4\n",
              "    0 28 97 93 55\n",
              "    1 33 54 28 12"
            ]
          },
          "metadata": {
            "tags": []
          }
        }
      ]
    },
    {
      "cell_type": "code",
      "metadata": {
        "id": "Cu5uzRQu77U_",
        "colab_type": "code",
        "colab": {}
      },
      "source": [
        "set.seed(1234)\n",
        "\n",
        "#now, we will partition the data into 80 -20. \n",
        "#80 is the train data and 20 is the test data. we test 20% and predict the rest 80"
      ],
      "execution_count": 29,
      "outputs": []
    },
    {
      "cell_type": "code",
      "metadata": {
        "id": "ZLiyh-vK8Elp",
        "colab_type": "code",
        "colab": {}
      },
      "source": [
        "ind = sample(2, nrow(df), replace=TRUE, prob=c(0.80, 0.20))"
      ],
      "execution_count": 32,
      "outputs": []
    },
    {
      "cell_type": "code",
      "metadata": {
        "id": "nwXEF_aV8jYT",
        "colab_type": "code",
        "colab": {}
      },
      "source": [
        "train = df[ind==1, ]"
      ],
      "execution_count": 34,
      "outputs": []
    },
    {
      "cell_type": "code",
      "metadata": {
        "id": "zDqMGOR58iGq",
        "colab_type": "code",
        "colab": {}
      },
      "source": [
        "test = df[ind==2, ]"
      ],
      "execution_count": 35,
      "outputs": []
    },
    {
      "cell_type": "code",
      "metadata": {
        "id": "-aUNiQ1h8v5L",
        "colab_type": "code",
        "colab": {
          "base_uri": "https://localhost:8080/",
          "height": 104
        },
        "outputId": "82bc4c83-f1c9-44fb-dc81-32ab3ec020bf"
      },
      "source": [
        "str(train)"
      ],
      "execution_count": 36,
      "outputs": [
        {
          "output_type": "stream",
          "text": [
            "'data.frame':\t325 obs. of  4 variables:\n",
            " $ admit: Factor w/ 2 levels \"0\",\"1\": 1 2 2 2 2 2 1 2 1 1 ...\n",
            " $ gre  : int  380 660 800 640 760 560 400 540 700 800 ...\n",
            " $ gpa  : num  3.61 3.67 4 3.19 3 2.98 3.08 3.39 3.92 4 ...\n",
            " $ rank : Factor w/ 4 levels \"1\",\"2\",\"3\",\"4\": 3 3 1 4 2 1 2 3 2 4 ...\n"
          ],
          "name": "stdout"
        }
      ]
    },
    {
      "cell_type": "code",
      "metadata": {
        "id": "tn5N6Jer8zRO",
        "colab_type": "code",
        "colab": {
          "base_uri": "https://localhost:8080/",
          "height": 104
        },
        "outputId": "74d8ba3d-177a-4c1c-8b14-7eff9da11c79"
      },
      "source": [
        "str(test)"
      ],
      "execution_count": 37,
      "outputs": [
        {
          "output_type": "stream",
          "text": [
            "'data.frame':\t75 obs. of  4 variables:\n",
            " $ admit: Factor w/ 2 levels \"0\",\"1\": 1 1 1 2 2 2 2 2 1 2 ...\n",
            " $ gre  : int  520 700 480 800 520 780 500 520 600 620 ...\n",
            " $ gpa  : num  2.93 3.08 3.44 3.66 3.74 3.22 3.13 2.68 2.82 3.18 ...\n",
            " $ rank : Factor w/ 4 levels \"1\",\"2\",\"3\",\"4\": 4 2 3 1 4 2 2 3 4 2 ...\n"
          ],
          "name": "stdout"
        }
      ]
    },
    {
      "cell_type": "code",
      "metadata": {
        "id": "jujZrJRY83pR",
        "colab_type": "code",
        "colab": {
          "base_uri": "https://localhost:8080/",
          "height": 202
        },
        "outputId": "08afe3f4-afa4-44e5-9e65-e41806ceb5b1"
      },
      "source": [
        "head(train)"
      ],
      "execution_count": 38,
      "outputs": [
        {
          "output_type": "display_data",
          "data": {
            "text/plain": [
              "  admit gre gpa  rank\n",
              "1 0     380 3.61 3   \n",
              "2 1     660 3.67 3   \n",
              "3 1     800 4.00 1   \n",
              "4 1     640 3.19 4   \n",
              "6 1     760 3.00 2   \n",
              "7 1     560 2.98 1   "
            ],
            "text/latex": "A data.frame: 6 × 4\n\\begin{tabular}{r|llll}\n  & admit & gre & gpa & rank\\\\\n  & <fct> & <int> & <dbl> & <fct>\\\\\n\\hline\n\t1 & 0 & 380 & 3.61 & 3\\\\\n\t2 & 1 & 660 & 3.67 & 3\\\\\n\t3 & 1 & 800 & 4.00 & 1\\\\\n\t4 & 1 & 640 & 3.19 & 4\\\\\n\t6 & 1 & 760 & 3.00 & 2\\\\\n\t7 & 1 & 560 & 2.98 & 1\\\\\n\\end{tabular}\n",
            "text/markdown": "\nA data.frame: 6 × 4\n\n| <!--/--> | admit &lt;fct&gt; | gre &lt;int&gt; | gpa &lt;dbl&gt; | rank &lt;fct&gt; |\n|---|---|---|---|---|\n| 1 | 0 | 380 | 3.61 | 3 |\n| 2 | 1 | 660 | 3.67 | 3 |\n| 3 | 1 | 800 | 4.00 | 1 |\n| 4 | 1 | 640 | 3.19 | 4 |\n| 6 | 1 | 760 | 3.00 | 2 |\n| 7 | 1 | 560 | 2.98 | 1 |\n\n",
            "text/html": [
              "<table>\n",
              "<caption>A data.frame: 6 × 4</caption>\n",
              "<thead>\n",
              "\t<tr><th></th><th scope=col>admit</th><th scope=col>gre</th><th scope=col>gpa</th><th scope=col>rank</th></tr>\n",
              "\t<tr><th></th><th scope=col>&lt;fct&gt;</th><th scope=col>&lt;int&gt;</th><th scope=col>&lt;dbl&gt;</th><th scope=col>&lt;fct&gt;</th></tr>\n",
              "</thead>\n",
              "<tbody>\n",
              "\t<tr><th scope=row>1</th><td>0</td><td>380</td><td>3.61</td><td>3</td></tr>\n",
              "\t<tr><th scope=row>2</th><td>1</td><td>660</td><td>3.67</td><td>3</td></tr>\n",
              "\t<tr><th scope=row>3</th><td>1</td><td>800</td><td>4.00</td><td>1</td></tr>\n",
              "\t<tr><th scope=row>4</th><td>1</td><td>640</td><td>3.19</td><td>4</td></tr>\n",
              "\t<tr><th scope=row>6</th><td>1</td><td>760</td><td>3.00</td><td>2</td></tr>\n",
              "\t<tr><th scope=row>7</th><td>1</td><td>560</td><td>2.98</td><td>1</td></tr>\n",
              "</tbody>\n",
              "</table>\n"
            ]
          },
          "metadata": {
            "tags": []
          }
        }
      ]
    },
    {
      "cell_type": "code",
      "metadata": {
        "id": "CQDWfi9l86eA",
        "colab_type": "code",
        "colab": {
          "base_uri": "https://localhost:8080/",
          "height": 202
        },
        "outputId": "0daaceb2-d3f1-4424-b8fc-2fbd6a1c1aa9"
      },
      "source": [
        "head(test)"
      ],
      "execution_count": 39,
      "outputs": [
        {
          "output_type": "display_data",
          "data": {
            "text/plain": [
              "   admit gre gpa  rank\n",
              "5  0     520 2.93 4   \n",
              "14 0     700 3.08 2   \n",
              "16 0     480 3.44 3   \n",
              "26 1     800 3.66 1   \n",
              "28 1     520 3.74 4   \n",
              "29 1     780 3.22 2   "
            ],
            "text/latex": "A data.frame: 6 × 4\n\\begin{tabular}{r|llll}\n  & admit & gre & gpa & rank\\\\\n  & <fct> & <int> & <dbl> & <fct>\\\\\n\\hline\n\t5 & 0 & 520 & 2.93 & 4\\\\\n\t14 & 0 & 700 & 3.08 & 2\\\\\n\t16 & 0 & 480 & 3.44 & 3\\\\\n\t26 & 1 & 800 & 3.66 & 1\\\\\n\t28 & 1 & 520 & 3.74 & 4\\\\\n\t29 & 1 & 780 & 3.22 & 2\\\\\n\\end{tabular}\n",
            "text/markdown": "\nA data.frame: 6 × 4\n\n| <!--/--> | admit &lt;fct&gt; | gre &lt;int&gt; | gpa &lt;dbl&gt; | rank &lt;fct&gt; |\n|---|---|---|---|---|\n| 5 | 0 | 520 | 2.93 | 4 |\n| 14 | 0 | 700 | 3.08 | 2 |\n| 16 | 0 | 480 | 3.44 | 3 |\n| 26 | 1 | 800 | 3.66 | 1 |\n| 28 | 1 | 520 | 3.74 | 4 |\n| 29 | 1 | 780 | 3.22 | 2 |\n\n",
            "text/html": [
              "<table>\n",
              "<caption>A data.frame: 6 × 4</caption>\n",
              "<thead>\n",
              "\t<tr><th></th><th scope=col>admit</th><th scope=col>gre</th><th scope=col>gpa</th><th scope=col>rank</th></tr>\n",
              "\t<tr><th></th><th scope=col>&lt;fct&gt;</th><th scope=col>&lt;int&gt;</th><th scope=col>&lt;dbl&gt;</th><th scope=col>&lt;fct&gt;</th></tr>\n",
              "</thead>\n",
              "<tbody>\n",
              "\t<tr><th scope=row>5</th><td>0</td><td>520</td><td>2.93</td><td>4</td></tr>\n",
              "\t<tr><th scope=row>14</th><td>0</td><td>700</td><td>3.08</td><td>2</td></tr>\n",
              "\t<tr><th scope=row>16</th><td>0</td><td>480</td><td>3.44</td><td>3</td></tr>\n",
              "\t<tr><th scope=row>26</th><td>1</td><td>800</td><td>3.66</td><td>1</td></tr>\n",
              "\t<tr><th scope=row>28</th><td>1</td><td>520</td><td>3.74</td><td>4</td></tr>\n",
              "\t<tr><th scope=row>29</th><td>1</td><td>780</td><td>3.22</td><td>2</td></tr>\n",
              "</tbody>\n",
              "</table>\n"
            ]
          },
          "metadata": {
            "tags": []
          }
        }
      ]
    },
    {
      "cell_type": "code",
      "metadata": {
        "id": "X-l2HI4F8-I4",
        "colab_type": "code",
        "colab": {
          "base_uri": "https://localhost:8080/",
          "height": 35
        },
        "outputId": "a13f3f8d-c074-4bb5-c690-4e6b904edde8"
      },
      "source": [
        "head(ind)"
      ],
      "execution_count": 40,
      "outputs": [
        {
          "output_type": "display_data",
          "data": {
            "text/plain": [
              "[1] 1 1 1 1 2 1"
            ],
            "text/latex": "\\begin{enumerate*}\n\\item 1\n\\item 1\n\\item 1\n\\item 1\n\\item 2\n\\item 1\n\\end{enumerate*}\n",
            "text/markdown": "1. 1\n2. 1\n3. 1\n4. 1\n5. 2\n6. 1\n\n\n",
            "text/html": [
              "<style>\n",
              ".list-inline {list-style: none; margin:0; padding: 0}\n",
              ".list-inline>li {display: inline-block}\n",
              ".list-inline>li:not(:last-child)::after {content: \"\\00b7\"; padding: 0 .5ex}\n",
              "</style>\n",
              "<ol class=list-inline><li>1</li><li>1</li><li>1</li><li>1</li><li>2</li><li>1</li></ol>\n"
            ]
          },
          "metadata": {
            "tags": []
          }
        }
      ]
    },
    {
      "cell_type": "code",
      "metadata": {
        "id": "RrVaGIa188tJ",
        "colab_type": "code",
        "colab": {}
      },
      "source": [
        "#we have now partitioned the data usuimng sample fn\n",
        "#Now, we will build a model\n",
        "\n",
        "clf = glm(admit~ gre+gpa+rank, data= train, family= 'binomial')"
      ],
      "execution_count": 41,
      "outputs": []
    },
    {
      "cell_type": "code",
      "metadata": {
        "id": "xSfLPK3a9SxH",
        "colab_type": "code",
        "colab": {
          "base_uri": "https://localhost:8080/",
          "height": 485
        },
        "outputId": "94658393-25fe-42cf-8aaf-44d5c52cb438"
      },
      "source": [
        "summary(clf)"
      ],
      "execution_count": 42,
      "outputs": [
        {
          "output_type": "display_data",
          "data": {
            "text/plain": [
              "\n",
              "Call:\n",
              "glm(formula = admit ~ gre + gpa + rank, family = \"binomial\", \n",
              "    data = train)\n",
              "\n",
              "Deviance Residuals: \n",
              "    Min       1Q   Median       3Q      Max  \n",
              "-1.5873  -0.8679  -0.6181   1.1301   2.1178  \n",
              "\n",
              "Coefficients:\n",
              "             Estimate Std. Error z value Pr(>|z|)    \n",
              "(Intercept) -5.009514   1.316514  -3.805 0.000142 ***\n",
              "gre          0.001631   0.001217   1.340 0.180180    \n",
              "gpa          1.166408   0.388899   2.999 0.002706 ** \n",
              "rank2       -0.570976   0.358273  -1.594 0.111005    \n",
              "rank3       -1.125341   0.383372  -2.935 0.003331 ** \n",
              "rank4       -1.532942   0.477377  -3.211 0.001322 ** \n",
              "---\n",
              "Signif. codes:  0 ‘***’ 0.001 ‘**’ 0.01 ‘*’ 0.05 ‘.’ 0.1 ‘ ’ 1\n",
              "\n",
              "(Dispersion parameter for binomial family taken to be 1)\n",
              "\n",
              "    Null deviance: 404.39  on 324  degrees of freedom\n",
              "Residual deviance: 369.99  on 319  degrees of freedom\n",
              "AIC: 381.99\n",
              "\n",
              "Number of Fisher Scoring iterations: 4\n"
            ]
          },
          "metadata": {
            "tags": []
          }
        }
      ]
    },
    {
      "cell_type": "code",
      "metadata": {
        "id": "5GvLcWPP9Z7n",
        "colab_type": "code",
        "colab": {
          "base_uri": "https://localhost:8080/",
          "height": 52
        },
        "outputId": "4e47521c-33c4-46f7-d19e-0ae779259a81"
      },
      "source": [
        "coefficients(clf)  #y = mx+c and MLR:"
      ],
      "execution_count": 43,
      "outputs": [
        {
          "output_type": "display_data",
          "data": {
            "text/plain": [
              " (Intercept)          gre          gpa        rank2        rank3        rank4 \n",
              "-5.009514038  0.001631284  1.166408495 -0.570976207 -1.125340854 -1.532942235 "
            ],
            "text/latex": "\\begin{description*}\n\\item[(Intercept)] -5.00951403787317\n\\item[gre] 0.00163128435840761\n\\item[gpa] 1.16640849518926\n\\item[rank2] -0.570976206656946\n\\item[rank3] -1.12534085407967\n\\item[rank4] -1.53294223528652\n\\end{description*}\n",
            "text/markdown": "(Intercept)\n:   -5.00951403787317gre\n:   0.00163128435840761gpa\n:   1.16640849518926rank2\n:   -0.570976206656946rank3\n:   -1.12534085407967rank4\n:   -1.53294223528652\n\n",
            "text/html": [
              "<style>\n",
              ".dl-inline {width: auto; margin:0; padding: 0}\n",
              ".dl-inline>dt, .dl-inline>dd {float: none; width: auto; display: inline-block}\n",
              ".dl-inline>dt::after {content: \":\\0020\"; padding-right: .5ex}\n",
              ".dl-inline>dt:not(:first-of-type) {padding-left: .5ex}\n",
              "</style><dl class=dl-inline><dt>(Intercept)</dt><dd>-5.00951403787317</dd><dt>gre</dt><dd>0.00163128435840761</dd><dt>gpa</dt><dd>1.16640849518926</dd><dt>rank2</dt><dd>-0.570976206656946</dd><dt>rank3</dt><dd>-1.12534085407967</dd><dt>rank4</dt><dd>-1.53294223528652</dd></dl>\n"
            ]
          },
          "metadata": {
            "tags": []
          }
        }
      ]
    },
    {
      "cell_type": "code",
      "metadata": {
        "id": "9bLEPvxm9hEi",
        "colab_type": "code",
        "colab": {}
      },
      "source": [
        "pred = predict(clf, test, type = 'response')"
      ],
      "execution_count": 44,
      "outputs": []
    },
    {
      "cell_type": "code",
      "metadata": {
        "id": "zk94Bzr8-Lzz",
        "colab_type": "code",
        "colab": {
          "base_uri": "https://localhost:8080/",
          "height": 347
        },
        "outputId": "bf3c1cd7-1364-4d92-8aef-e707ef425a32"
      },
      "source": [
        "pred"
      ],
      "execution_count": 45,
      "outputs": [
        {
          "output_type": "display_data",
          "data": {
            "text/plain": [
              "         5         14         16         26         28         29         39 \n",
              "0.09307860 0.30026148 0.20760987 0.63750895 0.20885837 0.36534183 0.24712788 \n",
              "        40         60         61         72         81         86         90 \n",
              "0.10334370 0.09326429 0.29735712 0.06616438 0.11732879 0.22160716 0.54035985 \n",
              "        92        113        116        117        122        123        124 \n",
              "0.60126473 0.11421749 0.38473727 0.30182639 0.15667708 0.12321589 0.13665966 \n",
              "       131        135        137        140        142        149        154 \n",
              "0.29492585 0.22687072 0.14870468 0.53618637 0.21504158 0.30316978 0.23995312 \n",
              "       156        158        169        185        187        192        194 \n",
              "0.09445760 0.48731394 0.34218353 0.07780619 0.26686225 0.33164789 0.14992853 \n",
              "       195        196        197        199        210        216        220 \n",
              "0.36487149 0.38235497 0.18583057 0.28454619 0.36542009 0.15923133 0.38235497 \n",
              "       227        234        240        245        249        261        277 \n",
              "0.40291075 0.08823289 0.27511047 0.35830267 0.31435122 0.30075894 0.27148446 \n",
              "       283        290        293        302        305        308        311 \n",
              "0.19128234 0.03837444 0.46120179 0.29751976 0.07762686 0.36812908 0.36454259 \n",
              "       320        322        330        332        333        339        341 \n",
              "0.42487299 0.34200836 0.09036082 0.29508772 0.29487876 0.40224652 0.12354124 \n",
              "       344        349        355        356        365        366        369 \n",
              "0.25632931 0.26720615 0.42786370 0.37939191 0.45589933 0.10820364 0.64617430 \n",
              "       371        373        389        390        396 \n",
              "0.42501080 0.25397332 0.30175527 0.39117533 0.52411628 "
            ],
            "text/latex": "\\begin{description*}\n\\item[5] 0.0930785977768891\n\\item[14] 0.300261479770229\n\\item[16] 0.207609868179904\n\\item[26] 0.637508952179344\n\\item[28] 0.208858370337557\n\\item[29] 0.365341832934769\n\\item[39] 0.24712787538439\n\\item[40] 0.103343703492428\n\\item[60] 0.0932642922008659\n\\item[61] 0.297357120020921\n\\item[72] 0.0661643809681767\n\\item[81] 0.117328792572667\n\\item[86] 0.221607160889959\n\\item[90] 0.540359851738341\n\\item[92] 0.60126473373205\n\\item[113] 0.114217487087556\n\\item[116] 0.384737270034653\n\\item[117] 0.301826388695707\n\\item[122] 0.15667708038315\n\\item[123] 0.123215885566704\n\\item[124] 0.136659658031361\n\\item[131] 0.294925848587356\n\\item[135] 0.226870719344816\n\\item[137] 0.148704683315998\n\\item[140] 0.536186369041658\n\\item[142] 0.215041584091763\n\\item[149] 0.303169778063819\n\\item[154] 0.239953115246985\n\\item[156] 0.0944575996218093\n\\item[158] 0.487313939980617\n\\item[169] 0.342183532004207\n\\item[185] 0.0778061917336033\n\\item[187] 0.266862253772764\n\\item[192] 0.331647885425357\n\\item[194] 0.149928529386195\n\\item[195] 0.364871489025708\n\\item[196] 0.382354966047258\n\\item[197] 0.185830571442365\n\\item[199] 0.284546191199088\n\\item[210] 0.365420093279853\n\\item[216] 0.15923133158019\n\\item[220] 0.382354966047258\n\\item[227] 0.402910749222108\n\\item[234] 0.0882328916378624\n\\item[240] 0.275110472407552\n\\item[245] 0.358302672029789\n\\item[249] 0.3143512226981\n\\item[261] 0.300758941261883\n\\item[277] 0.271484459312163\n\\item[283] 0.191282341968045\n\\item[290] 0.0383744358544009\n\\item[293] 0.461201791032158\n\\item[302] 0.29751975937883\n\\item[305] 0.0776268639957839\n\\item[308] 0.368129079233532\n\\item[311] 0.364542592359177\n\\item[320] 0.424872991477803\n\\item[322] 0.342008364047115\n\\item[330] 0.0903608237781653\n\\item[332] 0.295087716628971\n\\item[333] 0.29487876192622\n\\item[339] 0.402246518539806\n\\item[341] 0.123541236809825\n\\item[344] 0.256329311810852\n\\item[349] 0.267206151108586\n\\item[355] 0.427863695988608\n\\item[356] 0.379391909898241\n\\item[365] 0.455899333461768\n\\item[366] 0.10820364193088\n\\item[369] 0.646174301858012\n\\item[371] 0.425010803303856\n\\item[373] 0.253973324871275\n\\item[389] 0.301755271547295\n\\item[390] 0.391175334103592\n\\item[396] 0.52411628224831\n\\end{description*}\n",
            "text/markdown": "5\n:   0.093078597776889114\n:   0.30026147977022916\n:   0.20760986817990426\n:   0.63750895217934428\n:   0.20885837033755729\n:   0.36534183293476939\n:   0.2471278753843940\n:   0.10334370349242860\n:   0.093264292200865961\n:   0.29735712002092172\n:   0.066164380968176781\n:   0.11732879257266786\n:   0.22160716088995990\n:   0.54035985173834192\n:   0.60126473373205113\n:   0.114217487087556116\n:   0.384737270034653117\n:   0.301826388695707122\n:   0.15667708038315123\n:   0.123215885566704124\n:   0.136659658031361131\n:   0.294925848587356135\n:   0.226870719344816137\n:   0.148704683315998140\n:   0.536186369041658142\n:   0.215041584091763149\n:   0.303169778063819154\n:   0.239953115246985156\n:   0.0944575996218093158\n:   0.487313939980617169\n:   0.342183532004207185\n:   0.0778061917336033187\n:   0.266862253772764192\n:   0.331647885425357194\n:   0.149928529386195195\n:   0.364871489025708196\n:   0.382354966047258197\n:   0.185830571442365199\n:   0.284546191199088210\n:   0.365420093279853216\n:   0.15923133158019220\n:   0.382354966047258227\n:   0.402910749222108234\n:   0.0882328916378624240\n:   0.275110472407552245\n:   0.358302672029789249\n:   0.3143512226981261\n:   0.300758941261883277\n:   0.271484459312163283\n:   0.191282341968045290\n:   0.0383744358544009293\n:   0.461201791032158302\n:   0.29751975937883305\n:   0.0776268639957839308\n:   0.368129079233532311\n:   0.364542592359177320\n:   0.424872991477803322\n:   0.342008364047115330\n:   0.0903608237781653332\n:   0.295087716628971333\n:   0.29487876192622339\n:   0.402246518539806341\n:   0.123541236809825344\n:   0.256329311810852349\n:   0.267206151108586355\n:   0.427863695988608356\n:   0.379391909898241365\n:   0.455899333461768366\n:   0.10820364193088369\n:   0.646174301858012371\n:   0.425010803303856373\n:   0.253973324871275389\n:   0.301755271547295390\n:   0.391175334103592396\n:   0.52411628224831\n\n",
            "text/html": [
              "<style>\n",
              ".dl-inline {width: auto; margin:0; padding: 0}\n",
              ".dl-inline>dt, .dl-inline>dd {float: none; width: auto; display: inline-block}\n",
              ".dl-inline>dt::after {content: \":\\0020\"; padding-right: .5ex}\n",
              ".dl-inline>dt:not(:first-of-type) {padding-left: .5ex}\n",
              "</style><dl class=dl-inline><dt>5</dt><dd>0.0930785977768891</dd><dt>14</dt><dd>0.300261479770229</dd><dt>16</dt><dd>0.207609868179904</dd><dt>26</dt><dd>0.637508952179344</dd><dt>28</dt><dd>0.208858370337557</dd><dt>29</dt><dd>0.365341832934769</dd><dt>39</dt><dd>0.24712787538439</dd><dt>40</dt><dd>0.103343703492428</dd><dt>60</dt><dd>0.0932642922008659</dd><dt>61</dt><dd>0.297357120020921</dd><dt>72</dt><dd>0.0661643809681767</dd><dt>81</dt><dd>0.117328792572667</dd><dt>86</dt><dd>0.221607160889959</dd><dt>90</dt><dd>0.540359851738341</dd><dt>92</dt><dd>0.60126473373205</dd><dt>113</dt><dd>0.114217487087556</dd><dt>116</dt><dd>0.384737270034653</dd><dt>117</dt><dd>0.301826388695707</dd><dt>122</dt><dd>0.15667708038315</dd><dt>123</dt><dd>0.123215885566704</dd><dt>124</dt><dd>0.136659658031361</dd><dt>131</dt><dd>0.294925848587356</dd><dt>135</dt><dd>0.226870719344816</dd><dt>137</dt><dd>0.148704683315998</dd><dt>140</dt><dd>0.536186369041658</dd><dt>142</dt><dd>0.215041584091763</dd><dt>149</dt><dd>0.303169778063819</dd><dt>154</dt><dd>0.239953115246985</dd><dt>156</dt><dd>0.0944575996218093</dd><dt>158</dt><dd>0.487313939980617</dd><dt>169</dt><dd>0.342183532004207</dd><dt>185</dt><dd>0.0778061917336033</dd><dt>187</dt><dd>0.266862253772764</dd><dt>192</dt><dd>0.331647885425357</dd><dt>194</dt><dd>0.149928529386195</dd><dt>195</dt><dd>0.364871489025708</dd><dt>196</dt><dd>0.382354966047258</dd><dt>197</dt><dd>0.185830571442365</dd><dt>199</dt><dd>0.284546191199088</dd><dt>210</dt><dd>0.365420093279853</dd><dt>216</dt><dd>0.15923133158019</dd><dt>220</dt><dd>0.382354966047258</dd><dt>227</dt><dd>0.402910749222108</dd><dt>234</dt><dd>0.0882328916378624</dd><dt>240</dt><dd>0.275110472407552</dd><dt>245</dt><dd>0.358302672029789</dd><dt>249</dt><dd>0.3143512226981</dd><dt>261</dt><dd>0.300758941261883</dd><dt>277</dt><dd>0.271484459312163</dd><dt>283</dt><dd>0.191282341968045</dd><dt>290</dt><dd>0.0383744358544009</dd><dt>293</dt><dd>0.461201791032158</dd><dt>302</dt><dd>0.29751975937883</dd><dt>305</dt><dd>0.0776268639957839</dd><dt>308</dt><dd>0.368129079233532</dd><dt>311</dt><dd>0.364542592359177</dd><dt>320</dt><dd>0.424872991477803</dd><dt>322</dt><dd>0.342008364047115</dd><dt>330</dt><dd>0.0903608237781653</dd><dt>332</dt><dd>0.295087716628971</dd><dt>333</dt><dd>0.29487876192622</dd><dt>339</dt><dd>0.402246518539806</dd><dt>341</dt><dd>0.123541236809825</dd><dt>344</dt><dd>0.256329311810852</dd><dt>349</dt><dd>0.267206151108586</dd><dt>355</dt><dd>0.427863695988608</dd><dt>356</dt><dd>0.379391909898241</dd><dt>365</dt><dd>0.455899333461768</dd><dt>366</dt><dd>0.10820364193088</dd><dt>369</dt><dd>0.646174301858012</dd><dt>371</dt><dd>0.425010803303856</dd><dt>373</dt><dd>0.253973324871275</dd><dt>389</dt><dd>0.301755271547295</dd><dt>390</dt><dd>0.391175334103592</dd><dt>396</dt><dd>0.52411628224831</dd></dl>\n"
            ]
          },
          "metadata": {
            "tags": []
          }
        }
      ]
    },
    {
      "cell_type": "code",
      "metadata": {
        "id": "_JKC2bab-OX6",
        "colab_type": "code",
        "colab": {
          "base_uri": "https://localhost:8080/",
          "height": 52
        },
        "outputId": "f35229fb-eec8-4d4a-a9a1-2f3204f66b6c"
      },
      "source": [
        "head(pred)"
      ],
      "execution_count": 46,
      "outputs": [
        {
          "output_type": "display_data",
          "data": {
            "text/plain": [
              "        5        14        16        26        28        29 \n",
              "0.0930786 0.3002615 0.2076099 0.6375090 0.2088584 0.3653418 "
            ],
            "text/latex": "\\begin{description*}\n\\item[5] 0.0930785977768891\n\\item[14] 0.300261479770229\n\\item[16] 0.207609868179904\n\\item[26] 0.637508952179344\n\\item[28] 0.208858370337557\n\\item[29] 0.365341832934769\n\\end{description*}\n",
            "text/markdown": "5\n:   0.093078597776889114\n:   0.30026147977022916\n:   0.20760986817990426\n:   0.63750895217934428\n:   0.20885837033755729\n:   0.365341832934769\n\n",
            "text/html": [
              "<style>\n",
              ".dl-inline {width: auto; margin:0; padding: 0}\n",
              ".dl-inline>dt, .dl-inline>dd {float: none; width: auto; display: inline-block}\n",
              ".dl-inline>dt::after {content: \":\\0020\"; padding-right: .5ex}\n",
              ".dl-inline>dt:not(:first-of-type) {padding-left: .5ex}\n",
              "</style><dl class=dl-inline><dt>5</dt><dd>0.0930785977768891</dd><dt>14</dt><dd>0.300261479770229</dd><dt>16</dt><dd>0.207609868179904</dd><dt>26</dt><dd>0.637508952179344</dd><dt>28</dt><dd>0.208858370337557</dd><dt>29</dt><dd>0.365341832934769</dd></dl>\n"
            ]
          },
          "metadata": {
            "tags": []
          }
        }
      ]
    },
    {
      "cell_type": "code",
      "metadata": {
        "id": "moJEJ4dp-RS3",
        "colab_type": "code",
        "colab": {
          "base_uri": "https://localhost:8080/",
          "height": 202
        },
        "outputId": "82e18178-73ec-4e5a-a0ed-be24dec56cb7"
      },
      "source": [
        "head(test)"
      ],
      "execution_count": 47,
      "outputs": [
        {
          "output_type": "display_data",
          "data": {
            "text/plain": [
              "   admit gre gpa  rank\n",
              "5  0     520 2.93 4   \n",
              "14 0     700 3.08 2   \n",
              "16 0     480 3.44 3   \n",
              "26 1     800 3.66 1   \n",
              "28 1     520 3.74 4   \n",
              "29 1     780 3.22 2   "
            ],
            "text/latex": "A data.frame: 6 × 4\n\\begin{tabular}{r|llll}\n  & admit & gre & gpa & rank\\\\\n  & <fct> & <int> & <dbl> & <fct>\\\\\n\\hline\n\t5 & 0 & 520 & 2.93 & 4\\\\\n\t14 & 0 & 700 & 3.08 & 2\\\\\n\t16 & 0 & 480 & 3.44 & 3\\\\\n\t26 & 1 & 800 & 3.66 & 1\\\\\n\t28 & 1 & 520 & 3.74 & 4\\\\\n\t29 & 1 & 780 & 3.22 & 2\\\\\n\\end{tabular}\n",
            "text/markdown": "\nA data.frame: 6 × 4\n\n| <!--/--> | admit &lt;fct&gt; | gre &lt;int&gt; | gpa &lt;dbl&gt; | rank &lt;fct&gt; |\n|---|---|---|---|---|\n| 5 | 0 | 520 | 2.93 | 4 |\n| 14 | 0 | 700 | 3.08 | 2 |\n| 16 | 0 | 480 | 3.44 | 3 |\n| 26 | 1 | 800 | 3.66 | 1 |\n| 28 | 1 | 520 | 3.74 | 4 |\n| 29 | 1 | 780 | 3.22 | 2 |\n\n",
            "text/html": [
              "<table>\n",
              "<caption>A data.frame: 6 × 4</caption>\n",
              "<thead>\n",
              "\t<tr><th></th><th scope=col>admit</th><th scope=col>gre</th><th scope=col>gpa</th><th scope=col>rank</th></tr>\n",
              "\t<tr><th></th><th scope=col>&lt;fct&gt;</th><th scope=col>&lt;int&gt;</th><th scope=col>&lt;dbl&gt;</th><th scope=col>&lt;fct&gt;</th></tr>\n",
              "</thead>\n",
              "<tbody>\n",
              "\t<tr><th scope=row>5</th><td>0</td><td>520</td><td>2.93</td><td>4</td></tr>\n",
              "\t<tr><th scope=row>14</th><td>0</td><td>700</td><td>3.08</td><td>2</td></tr>\n",
              "\t<tr><th scope=row>16</th><td>0</td><td>480</td><td>3.44</td><td>3</td></tr>\n",
              "\t<tr><th scope=row>26</th><td>1</td><td>800</td><td>3.66</td><td>1</td></tr>\n",
              "\t<tr><th scope=row>28</th><td>1</td><td>520</td><td>3.74</td><td>4</td></tr>\n",
              "\t<tr><th scope=row>29</th><td>1</td><td>780</td><td>3.22</td><td>2</td></tr>\n",
              "</tbody>\n",
              "</table>\n"
            ]
          },
          "metadata": {
            "tags": []
          }
        }
      ]
    },
    {
      "cell_type": "code",
      "metadata": {
        "id": "aUOtI5UX-V4z",
        "colab_type": "code",
        "colab": {}
      },
      "source": [
        "pred2 = ifelse(pred>0.5, 1, 0) \n",
        "# here we are finding missclassification as the model is not showing what we predicted\n",
        "#how to evaluate the model performance, accuracy and missclassification."
      ],
      "execution_count": 49,
      "outputs": []
    },
    {
      "cell_type": "code",
      "metadata": {
        "id": "yFnhweNb-rl1",
        "colab_type": "code",
        "colab": {
          "base_uri": "https://localhost:8080/",
          "height": 35
        },
        "outputId": "2513b87e-2acc-41ae-d296-daf55047c82f"
      },
      "source": [
        "head(pred2)"
      ],
      "execution_count": 50,
      "outputs": [
        {
          "output_type": "display_data",
          "data": {
            "text/plain": [
              " 5 14 16 26 28 29 \n",
              " 0  0  0  1  0  0 "
            ],
            "text/latex": "\\begin{description*}\n\\item[5] 0\n\\item[14] 0\n\\item[16] 0\n\\item[26] 1\n\\item[28] 0\n\\item[29] 0\n\\end{description*}\n",
            "text/markdown": "5\n:   014\n:   016\n:   026\n:   128\n:   029\n:   0\n\n",
            "text/html": [
              "<style>\n",
              ".dl-inline {width: auto; margin:0; padding: 0}\n",
              ".dl-inline>dt, .dl-inline>dd {float: none; width: auto; display: inline-block}\n",
              ".dl-inline>dt::after {content: \":\\0020\"; padding-right: .5ex}\n",
              ".dl-inline>dt:not(:first-of-type) {padding-left: .5ex}\n",
              "</style><dl class=dl-inline><dt>5</dt><dd>0</dd><dt>14</dt><dd>0</dd><dt>16</dt><dd>0</dd><dt>26</dt><dd>1</dd><dt>28</dt><dd>0</dd><dt>29</dt><dd>0</dd></dl>\n"
            ]
          },
          "metadata": {
            "tags": []
          }
        }
      ]
    },
    {
      "cell_type": "code",
      "metadata": {
        "id": "7UCXeQX0-tn8",
        "colab_type": "code",
        "colab": {}
      },
      "source": [
        "tab1 = table(Predicted = pred2, Actual = test$admit)"
      ],
      "execution_count": 51,
      "outputs": []
    },
    {
      "cell_type": "code",
      "metadata": {
        "id": "aqfqonBV-5n8",
        "colab_type": "code",
        "colab": {
          "base_uri": "https://localhost:8080/",
          "height": 87
        },
        "outputId": "007daa5c-6242-41ca-fd5d-8c0549aa9edd"
      },
      "source": [
        "tab1"
      ],
      "execution_count": 52,
      "outputs": [
        {
          "output_type": "display_data",
          "data": {
            "text/plain": [
              "         Actual\n",
              "Predicted  0  1\n",
              "        0 48 21\n",
              "        1  2  4"
            ]
          },
          "metadata": {
            "tags": []
          }
        }
      ]
    },
    {
      "cell_type": "code",
      "metadata": {
        "id": "7EgDmKJg-7pB",
        "colab_type": "code",
        "colab": {}
      },
      "source": [
        "accuracy = (sum(diag(tab1))/sum(tab1))*100"
      ],
      "execution_count": 53,
      "outputs": []
    },
    {
      "cell_type": "code",
      "metadata": {
        "id": "YaEZ8ttB_GQ2",
        "colab_type": "code",
        "colab": {
          "base_uri": "https://localhost:8080/",
          "height": 35
        },
        "outputId": "04fd863c-498a-4d8b-eec9-cb39f37be049"
      },
      "source": [
        "accuracy  #accuracy in %"
      ],
      "execution_count": 54,
      "outputs": [
        {
          "output_type": "display_data",
          "data": {
            "text/plain": [
              "[1] 69.33333"
            ],
            "text/latex": "69.3333333333333",
            "text/markdown": "69.3333333333333",
            "text/html": [
              "69.3333333333333"
            ]
          },
          "metadata": {
            "tags": []
          }
        }
      ]
    },
    {
      "cell_type": "code",
      "metadata": {
        "id": "FYqAf4_A_IdC",
        "colab_type": "code",
        "colab": {
          "base_uri": "https://localhost:8080/",
          "height": 35
        },
        "outputId": "0af853ce-e25b-4f06-d1fd-daaea294712f"
      },
      "source": [
        "100 - accuracy #% of missclassification"
      ],
      "execution_count": 55,
      "outputs": [
        {
          "output_type": "display_data",
          "data": {
            "text/plain": [
              "[1] 30.66667"
            ],
            "text/latex": "30.6666666666667",
            "text/markdown": "30.6666666666667",
            "text/html": [
              "30.6666666666667"
            ]
          },
          "metadata": {
            "tags": []
          }
        }
      ]
    },
    {
      "cell_type": "code",
      "metadata": {
        "id": "-7tH_hFX_RIx",
        "colab_type": "code",
        "colab": {}
      },
      "source": [
        "clf2 = glm(admit~ gpa+ rank, data = train, family= 'binomial') #how to improve accuracy"
      ],
      "execution_count": 56,
      "outputs": []
    },
    {
      "cell_type": "code",
      "metadata": {
        "id": "g7NfY2Cg_d0F",
        "colab_type": "code",
        "colab": {
          "base_uri": "https://localhost:8080/",
          "height": 451
        },
        "outputId": "f17b070f-7394-4310-f765-8655fda3fd70"
      },
      "source": [
        "summary(clf2)"
      ],
      "execution_count": 57,
      "outputs": [
        {
          "output_type": "display_data",
          "data": {
            "text/plain": [
              "\n",
              "Call:\n",
              "glm(formula = admit ~ gpa + rank, family = \"binomial\", data = train)\n",
              "\n",
              "Deviance Residuals: \n",
              "    Min       1Q   Median       3Q      Max  \n",
              "-1.5156  -0.8880  -0.6318   1.1091   2.1688  \n",
              "\n",
              "Coefficients:\n",
              "            Estimate Std. Error z value Pr(>|z|)    \n",
              "(Intercept)  -4.7270     1.2918  -3.659 0.000253 ***\n",
              "gpa           1.3735     0.3590   3.826 0.000130 ***\n",
              "rank2        -0.5712     0.3564  -1.603 0.108976    \n",
              "rank3        -1.1645     0.3804  -3.061 0.002203 ** \n",
              "rank4        -1.5642     0.4756  -3.289 0.001005 ** \n",
              "---\n",
              "Signif. codes:  0 ‘***’ 0.001 ‘**’ 0.01 ‘*’ 0.05 ‘.’ 0.1 ‘ ’ 1\n",
              "\n",
              "(Dispersion parameter for binomial family taken to be 1)\n",
              "\n",
              "    Null deviance: 404.39  on 324  degrees of freedom\n",
              "Residual deviance: 371.81  on 320  degrees of freedom\n",
              "AIC: 381.81\n",
              "\n",
              "Number of Fisher Scoring iterations: 4\n"
            ]
          },
          "metadata": {
            "tags": []
          }
        }
      ]
    },
    {
      "cell_type": "code",
      "metadata": {
        "id": "hFbTK0bR_ipo",
        "colab_type": "code",
        "colab": {}
      },
      "source": [
        "predclf2 = predict(clf2, test, type='response')"
      ],
      "execution_count": 58,
      "outputs": []
    },
    {
      "cell_type": "code",
      "metadata": {
        "id": "ldKjEyUC_thk",
        "colab_type": "code",
        "colab": {
          "base_uri": "https://localhost:8080/",
          "height": 52
        },
        "outputId": "53bdb4c1-331f-4032-ac13-f9252a979726"
      },
      "source": [
        "head(predclf2)"
      ],
      "execution_count": 59,
      "outputs": [
        {
          "output_type": "display_data",
          "data": {
            "text/plain": [
              "         5         14         16         26         28         29 \n",
              "0.09390783 0.25582628 0.23746963 0.57446309 0.23971008 0.29411490 "
            ],
            "text/latex": "\\begin{description*}\n\\item[5] 0.0939078270684559\n\\item[14] 0.2558262821247\n\\item[16] 0.237469629895816\n\\item[26] 0.574463087633809\n\\item[28] 0.239710081854739\n\\item[29] 0.294114903387656\n\\end{description*}\n",
            "text/markdown": "5\n:   0.093907827068455914\n:   0.255826282124716\n:   0.23746962989581626\n:   0.57446308763380928\n:   0.23971008185473929\n:   0.294114903387656\n\n",
            "text/html": [
              "<style>\n",
              ".dl-inline {width: auto; margin:0; padding: 0}\n",
              ".dl-inline>dt, .dl-inline>dd {float: none; width: auto; display: inline-block}\n",
              ".dl-inline>dt::after {content: \":\\0020\"; padding-right: .5ex}\n",
              ".dl-inline>dt:not(:first-of-type) {padding-left: .5ex}\n",
              "</style><dl class=dl-inline><dt>5</dt><dd>0.0939078270684559</dd><dt>14</dt><dd>0.2558262821247</dd><dt>16</dt><dd>0.237469629895816</dd><dt>26</dt><dd>0.574463087633809</dd><dt>28</dt><dd>0.239710081854739</dd><dt>29</dt><dd>0.294114903387656</dd></dl>\n"
            ]
          },
          "metadata": {
            "tags": []
          }
        }
      ]
    },
    {
      "cell_type": "code",
      "metadata": {
        "id": "mltCwMN-_xEe",
        "colab_type": "code",
        "colab": {
          "base_uri": "https://localhost:8080/",
          "height": 52
        },
        "outputId": "4accec4e-b49f-4a8c-b24e-b09a83d6e544"
      },
      "source": [
        "head(test$admit)"
      ],
      "execution_count": 60,
      "outputs": [
        {
          "output_type": "display_data",
          "data": {
            "text/plain": [
              "[1] 0 0 0 1 1 1\n",
              "Levels: 0 1"
            ],
            "text/latex": "\\begin{enumerate*}\n\\item 0\n\\item 0\n\\item 0\n\\item 1\n\\item 1\n\\item 1\n\\end{enumerate*}\n\n\\emph{Levels}: \\begin{enumerate*}\n\\item '0'\n\\item '1'\n\\end{enumerate*}\n",
            "text/markdown": "1. 0\n2. 0\n3. 0\n4. 1\n5. 1\n6. 1\n\n\n\n**Levels**: 1. '0'\n2. '1'\n\n\n",
            "text/html": [
              "<style>\n",
              ".list-inline {list-style: none; margin:0; padding: 0}\n",
              ".list-inline>li {display: inline-block}\n",
              ".list-inline>li:not(:last-child)::after {content: \"\\00b7\"; padding: 0 .5ex}\n",
              "</style>\n",
              "<ol class=list-inline><li>0</li><li>0</li><li>0</li><li>1</li><li>1</li><li>1</li></ol>\n",
              "\n",
              "<details>\n",
              "\t<summary style=display:list-item;cursor:pointer>\n",
              "\t\t<strong>Levels</strong>:\n",
              "\t</summary>\n",
              "\t<style>\n",
              "\t.list-inline {list-style: none; margin:0; padding: 0}\n",
              "\t.list-inline>li {display: inline-block}\n",
              "\t.list-inline>li:not(:last-child)::after {content: \"\\00b7\"; padding: 0 .5ex}\n",
              "\t</style>\n",
              "\t<ol class=list-inline><li>'0'</li><li>'1'</li></ol>\n",
              "</details>"
            ]
          },
          "metadata": {
            "tags": []
          }
        }
      ]
    },
    {
      "cell_type": "code",
      "metadata": {
        "id": "hciFds_7_2bJ",
        "colab_type": "code",
        "colab": {}
      },
      "source": [
        "p3 = ifelse(predclf2>0.5, 1, 0) "
      ],
      "execution_count": 61,
      "outputs": []
    },
    {
      "cell_type": "code",
      "metadata": {
        "id": "qpWIGQ6MAauK",
        "colab_type": "code",
        "colab": {}
      },
      "source": [
        "tab2 = table(Predicted = p3, Actual = test$admit) #here we have redefined the classifcation"
      ],
      "execution_count": 62,
      "outputs": []
    },
    {
      "cell_type": "code",
      "metadata": {
        "id": "97bSoLXTAkcf",
        "colab_type": "code",
        "colab": {
          "base_uri": "https://localhost:8080/",
          "height": 87
        },
        "outputId": "9abebc08-2615-4912-a8ed-6ab0cc614cc7"
      },
      "source": [
        "tab2 "
      ],
      "execution_count": 63,
      "outputs": [
        {
          "output_type": "display_data",
          "data": {
            "text/plain": [
              "         Actual\n",
              "Predicted  0  1\n",
              "        0 48 20\n",
              "        1  2  5"
            ]
          },
          "metadata": {
            "tags": []
          }
        }
      ]
    },
    {
      "cell_type": "code",
      "metadata": {
        "id": "RoiWgynDAmWW",
        "colab_type": "code",
        "colab": {}
      },
      "source": [
        "accuracy2 = (sum(diag(tab2))/sum(tab2))*100"
      ],
      "execution_count": 65,
      "outputs": []
    },
    {
      "cell_type": "code",
      "metadata": {
        "id": "IL2eyXkyA0rU",
        "colab_type": "code",
        "colab": {
          "base_uri": "https://localhost:8080/",
          "height": 35
        },
        "outputId": "90b3ff95-c366-4697-de04-5559310cf10c"
      },
      "source": [
        "accuracy2 #accuracy in % after we refined the criteria to classify data in p3"
      ],
      "execution_count": 66,
      "outputs": [
        {
          "output_type": "display_data",
          "data": {
            "text/plain": [
              "[1] 70.66667"
            ],
            "text/latex": "70.6666666666667",
            "text/markdown": "70.6666666666667",
            "text/html": [
              "70.6666666666667"
            ]
          },
          "metadata": {
            "tags": []
          }
        }
      ]
    },
    {
      "cell_type": "code",
      "metadata": {
        "id": "jAyCNmArA5lm",
        "colab_type": "code",
        "colab": {}
      },
      "source": [
        "Missclassification = 100-accuracy2 \n",
        "#we can see, accuracy has increased\n",
        "#Missclassification is 100- Accuracy."
      ],
      "execution_count": 68,
      "outputs": []
    },
    {
      "cell_type": "code",
      "metadata": {
        "id": "es1KORjsBHpO",
        "colab_type": "code",
        "colab": {
          "base_uri": "https://localhost:8080/",
          "height": 35
        },
        "outputId": "2911d0f6-2a05-4b64-87ba-752c8f8d6165"
      },
      "source": [
        "Missclassification"
      ],
      "execution_count": 69,
      "outputs": [
        {
          "output_type": "display_data",
          "data": {
            "text/plain": [
              "[1] 29.33333"
            ],
            "text/latex": "29.3333333333333",
            "text/markdown": "29.3333333333333",
            "text/html": [
              "29.3333333333333"
            ]
          },
          "metadata": {
            "tags": []
          }
        }
      ]
    }
  ]
}