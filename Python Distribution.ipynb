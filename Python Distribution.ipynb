{
  "nbformat": 4,
  "nbformat_minor": 0,
  "metadata": {
    "colab": {
      "name": "STC-2A_Python-AishwaryJadhav.ipynb",
      "provenance": [],
      "collapsed_sections": []
    },
    "kernelspec": {
      "name": "python3",
      "display_name": "Python 3"
    }
  },
  "cells": [
    {
      "cell_type": "code",
      "metadata": {
        "id": "ZRtQKl3vhyUY"
      },
      "source": [
        "import scipy"
      ],
      "execution_count": 1,
      "outputs": []
    },
    {
      "cell_type": "code",
      "metadata": {
        "id": "nwGVyyJ8is9m"
      },
      "source": [
        "from scipy.stats import binom,poisson,uniform,expon,norm,chi2,t,f"
      ],
      "execution_count": 2,
      "outputs": []
    },
    {
      "cell_type": "markdown",
      "metadata": {
        "id": "ihFvWiBYizoF"
      },
      "source": [
        "Binomial"
      ]
    },
    {
      "cell_type": "code",
      "metadata": {
        "id": "FBsRfD1hi2QT",
        "outputId": "720bc38f-5270-4fad-b0b3-2d7ca67223b7",
        "colab": {
          "base_uri": "https://localhost:8080/",
          "height": 35
        }
      },
      "source": [
        "binom.pmf(k=4,p=0.2,n=12)"
      ],
      "execution_count": 3,
      "outputs": [
        {
          "output_type": "execute_result",
          "data": {
            "text/plain": [
              "0.1328755507199998"
            ]
          },
          "metadata": {
            "tags": []
          },
          "execution_count": 3
        }
      ]
    },
    {
      "cell_type": "code",
      "metadata": {
        "id": "rNEs0Q8Ri7YD",
        "outputId": "997cd82b-a152-46e1-c987-837e7d772aca",
        "colab": {
          "base_uri": "https://localhost:8080/",
          "height": 35
        }
      },
      "source": [
        "binom.cdf(4,n=12,p=0.2)"
      ],
      "execution_count": 4,
      "outputs": [
        {
          "output_type": "execute_result",
          "data": {
            "text/plain": [
              "0.92744450048"
            ]
          },
          "metadata": {
            "tags": []
          },
          "execution_count": 4
        }
      ]
    },
    {
      "cell_type": "code",
      "metadata": {
        "id": "Td7NfwKsi_ku",
        "outputId": "1446a1a3-976e-44ac-858b-4d0ae38b2389",
        "colab": {
          "base_uri": "https://localhost:8080/",
          "height": 35
        }
      },
      "source": [
        "binom.rvs(size=10,n=12,p=0.2)"
      ],
      "execution_count": 5,
      "outputs": [
        {
          "output_type": "execute_result",
          "data": {
            "text/plain": [
              "array([3, 4, 5, 3, 2, 3, 0, 3, 2, 3])"
            ]
          },
          "metadata": {
            "tags": []
          },
          "execution_count": 5
        }
      ]
    },
    {
      "cell_type": "code",
      "metadata": {
        "id": "8k1_-nBujBOC"
      },
      "source": [
        "data=binom.rvs(size=10000,n=12,p=0.2)"
      ],
      "execution_count": 6,
      "outputs": []
    },
    {
      "cell_type": "code",
      "metadata": {
        "id": "OzezizM1jE04",
        "outputId": "5a3aa2ab-62ab-46ed-c1f1-d5aa9f77e186",
        "colab": {
          "base_uri": "https://localhost:8080/",
          "height": 337
        }
      },
      "source": [
        "import seaborn as sns\n",
        "sns.distplot(data)"
      ],
      "execution_count": 7,
      "outputs": [
        {
          "output_type": "stream",
          "text": [
            "/usr/local/lib/python3.6/dist-packages/seaborn/distributions.py:2551: FutureWarning: `distplot` is a deprecated function and will be removed in a future version. Please adapt your code to use either `displot` (a figure-level function with similar flexibility) or `histplot` (an axes-level function for histograms).\n",
            "  warnings.warn(msg, FutureWarning)\n"
          ],
          "name": "stderr"
        },
        {
          "output_type": "execute_result",
          "data": {
            "text/plain": [
              "<matplotlib.axes._subplots.AxesSubplot at 0x7fd5763b3160>"
            ]
          },
          "metadata": {
            "tags": []
          },
          "execution_count": 7
        },
        {
          "output_type": "display_data",
          "data": {
            "image/png": "[encoded data removed]",
            "text/plain": [
              "<Figure size 432x288 with 1 Axes>"
            ]
          },
          "metadata": {
            "tags": [],
            "needs_background": "light"
          }
        }
      ]
    },
    {
      "cell_type": "markdown",
      "metadata": {
        "id": "Gs1ygbZ0jMPZ"
      },
      "source": [
        "Poisson's"
      ]
    },
    {
      "cell_type": "code",
      "metadata": {
        "id": "x7n-vG7rjNu7",
        "outputId": "c7c1a6f1-41f8-49f8-e2d1-5bdaddc54fba",
        "colab": {
          "base_uri": "https://localhost:8080/",
          "height": 35
        }
      },
      "source": [
        "1-poisson.cdf(16,mu=12)"
      ],
      "execution_count": 8,
      "outputs": [
        {
          "output_type": "execute_result",
          "data": {
            "text/plain": [
              "0.10129100743983788"
            ]
          },
          "metadata": {
            "tags": []
          },
          "execution_count": 8
        }
      ]
    },
    {
      "cell_type": "markdown",
      "metadata": {
        "id": "SMMlhE6DjTmH"
      },
      "source": [
        "Uniform"
      ]
    },
    {
      "cell_type": "code",
      "metadata": {
        "id": "FnjaS_1mjV3E",
        "outputId": "6e74a247-efa1-4a02-a4f2-e7d1b9cb0724",
        "colab": {
          "base_uri": "https://localhost:8080/",
          "height": 52
        }
      },
      "source": [
        "uniform.rvs(scale=3,size=10)"
      ],
      "execution_count": 9,
      "outputs": [
        {
          "output_type": "execute_result",
          "data": {
            "text/plain": [
              "array([1.73856373, 2.91764487, 1.3058301 , 0.37484693, 2.89680503,\n",
              "       0.08306238, 0.39082405, 0.98296536, 1.46274929, 1.36405842])"
            ]
          },
          "metadata": {
            "tags": []
          },
          "execution_count": 9
        }
      ]
    },
    {
      "cell_type": "markdown",
      "metadata": {
        "id": "CY8WZBMnjchM"
      },
      "source": [
        "Exponential"
      ]
    },
    {
      "cell_type": "code",
      "metadata": {
        "id": "8duOIvlkjd7X",
        "outputId": "ffc620c4-bd5d-4b08-a8a4-9329b553832c",
        "colab": {
          "base_uri": "https://localhost:8080/",
          "height": 35
        }
      },
      "source": [
        "expon.cdf(2/3)"
      ],
      "execution_count": 10,
      "outputs": [
        {
          "output_type": "execute_result",
          "data": {
            "text/plain": [
              "0.486582880967408"
            ]
          },
          "metadata": {
            "tags": []
          },
          "execution_count": 10
        }
      ]
    },
    {
      "cell_type": "markdown",
      "metadata": {
        "id": "T8nM2QpijmQN"
      },
      "source": [
        "Normal"
      ]
    },
    {
      "cell_type": "code",
      "metadata": {
        "id": "C83BPCcrjkF8",
        "outputId": "c2f4c4ff-c07b-46cf-e606-a47f6f4043bb",
        "colab": {
          "base_uri": "https://localhost:8080/",
          "height": 35
        }
      },
      "source": [
        "1-norm.cdf(x=((84-72)/15.2))"
      ],
      "execution_count": 11,
      "outputs": [
        {
          "output_type": "execute_result",
          "data": {
            "text/plain": [
              "0.21491760231127244"
            ]
          },
          "metadata": {
            "tags": []
          },
          "execution_count": 11
        }
      ]
    },
    {
      "cell_type": "markdown",
      "metadata": {
        "id": "IvtDm81dkIBL"
      },
      "source": [
        "Chi-Square"
      ]
    },
    {
      "cell_type": "code",
      "metadata": {
        "id": "ctuJPLu1jreq",
        "outputId": "a7d56d02-1b2d-4b78-d681-1d5be3d38dcf",
        "colab": {
          "base_uri": "https://localhost:8080/",
          "height": 35
        }
      },
      "source": [
        "chi2.ppf(0.95,7)"
      ],
      "execution_count": 12,
      "outputs": [
        {
          "output_type": "execute_result",
          "data": {
            "text/plain": [
              "14.067140449340169"
            ]
          },
          "metadata": {
            "tags": []
          },
          "execution_count": 12
        }
      ]
    },
    {
      "cell_type": "markdown",
      "metadata": {
        "id": "qQyc2KzgkEJI"
      },
      "source": [
        "T distribution"
      ]
    },
    {
      "cell_type": "code",
      "metadata": {
        "id": "vVTFLbyJjwdt",
        "outputId": "4387c603-523c-4492-dc9d-d1224c2b790e",
        "colab": {
          "base_uri": "https://localhost:8080/",
          "height": 35
        }
      },
      "source": [
        "t.ppf(0.025,5)"
      ],
      "execution_count": 13,
      "outputs": [
        {
          "output_type": "execute_result",
          "data": {
            "text/plain": [
              "-2.57058183661474"
            ]
          },
          "metadata": {
            "tags": []
          },
          "execution_count": 13
        }
      ]
    },
    {
      "cell_type": "code",
      "metadata": {
        "id": "aMLHoM2bj0Io",
        "outputId": "7a7849c3-88ee-48d5-8378-8118d031468a",
        "colab": {
          "base_uri": "https://localhost:8080/",
          "height": 35
        }
      },
      "source": [
        "t.ppf(0.975,5)"
      ],
      "execution_count": 14,
      "outputs": [
        {
          "output_type": "execute_result",
          "data": {
            "text/plain": [
              "2.5705818366147395"
            ]
          },
          "metadata": {
            "tags": []
          },
          "execution_count": 14
        }
      ]
    },
    {
      "cell_type": "markdown",
      "metadata": {
        "id": "R-5TpijSkATF"
      },
      "source": [
        "f distribution"
      ]
    },
    {
      "cell_type": "code",
      "metadata": {
        "id": "D65i2Hqhj5D4",
        "outputId": "34837550-5764-4d2c-bcfe-51fbb1e2d3c1",
        "colab": {
          "base_uri": "https://localhost:8080/",
          "height": 35
        }
      },
      "source": [
        "f.ppf(0.95,5,2)"
      ],
      "execution_count": 15,
      "outputs": [
        {
          "output_type": "execute_result",
          "data": {
            "text/plain": [
              "19.296409652017232"
            ]
          },
          "metadata": {
            "tags": []
          },
          "execution_count": 15
        }
      ]
    }
  ]
}