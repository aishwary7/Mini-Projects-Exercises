{
  "nbformat": 4,
  "nbformat_minor": 0,
  "metadata": {
    "colab": {
      "provenance": [],
      "collapsed_sections": []
    },
    "kernelspec": {
      "name": "python3",
      "display_name": "Python 3"
    }
  },
  "cells": [
    {
      "cell_type": "markdown",
      "metadata": {
        "id": "jaOKH1lzSxon"
      },
      "source": [
        "## Introduction to Machine Learning\n",
        "### Subfield of AI, ability of machine to automatically learn from data and improve experience without being explicitly programmed.\n",
        "### Learning components: ML Algorithm and Data\n",
        "### Data (X,y)\n",
        "### X -predictors (feature-vectors) y-response variable \n",
        "###Data(X,y)\n",
        "### X--->y Mapping function \n",
        "### Ability to predict\n",
        "# Role of Algorithm\n",
        "## What is model?\n",
        "# Simple Form: model=Data(X,y) + Algorithm\n",
        "## Types of Machine Learning:\n",
        "[1] Supervised ML: \n",
        "[2] Unsupervised ML\n",
        "[3] Reinforcement ML\n",
        "\n",
        "![ML2.jpeg](data:image/jpeg;base64,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)\n"
      ]
    },
    {
      "cell_type": "markdown",
      "metadata": {
        "id": "sTrL5IAFQt4q"
      },
      "source": [
        "#Lab5A- Machine Learning Approach for Cybersecurity\n",
        "## Objective:\n",
        "####To detect computer network intrusion using machine learning techniques.\n",
        "######Reference: https://www.kdd.org/kdd-cup/view/kdd-cup-1999/Data\n",
        "\n",
        "###Outcomes:\n",
        "1. To load dataset in Python or R\n",
        "2. To process and prepare data\n",
        "3. Build a model for intrusion detection.\n",
        "4. Use machine learning algorithms to detect intrusion.\n",
        "5. Calculate accuracy and confusion matrix and prediction time\n",
        "6. Compare the models\n"
      ]
    },
    {
      "cell_type": "markdown",
      "metadata": {
        "id": "KMYFYijxVuG3"
      },
      "source": [
        "### Step-by-Step ML:\n",
        "1. Understanding the business problem\n",
        "2. Collect/Select dataset\n",
        "3. Data Preprocessing: missing values, normilization, Label Encoding etc\n",
        "4. Exploratory Data Analysis (EDA): Tryiing to establish the relationship between the variable.\n",
        "5. Problem statement\n",
        "###y=f(X) estimating the f()\n",
        "X -->y \n",
        "-- Parametric Method\n",
        "-- Non-Parametric Method\n",
        "6. Data Partition- 80% Train and 20% test (hold-out)\n",
        "7. Building the model\n",
        "8. Evaluate the performance of model\n",
        "9. Model tuning- Improve the performance- Hyperparameter Tuning\n",
        "\n",
        "\n"
      ]
    },
    {
      "cell_type": "markdown",
      "metadata": {
        "id": "puiKlL3KRzZ6"
      },
      "source": [
        "# Description: KDDCUP Dataset\n",
        "#####This database(KDD Cup 1999 Data) contains a standard set of data to be audited, which includes a wide variety of intrusions simulated in a military network environment.\n",
        "####Attacks fall into four main categories:\n",
        "- DOS | denial-of-service | syn flood |\n",
        "- R2L | unauthorized access from a remote machine | guessing password |\n",
        "- U2R | unauthorized access to local superuser privileges | ‘’buffer overflow’’ attacks |\n",
        "- probing | surveillance and other probing | port scanning"
      ]
    },
    {
      "cell_type": "markdown",
      "metadata": {
        "id": "kkudiN36SXfI"
      },
      "source": [
        "#Import important library in Google Colaboratory\n",
        "- import pandas as pd\n",
        "- import numpy as np\n",
        "- import scipy as sp\n",
        "- import matplotlib.pyplot as plt\n",
        "- import seaborn as sns\n",
        "- %matplotlib inline"
      ]
    },
    {
      "cell_type": "code",
      "metadata": {
        "id": "-lPiwRV3RBku",
        "colab": {
          "base_uri": "https://localhost:8080/",
          "height": 72
        },
        "outputId": "d75e9742-ac32-48f9-88f5-ed8048ff3840"
      },
      "source": [
        "#Import Library\n",
        "import pandas as pd\n",
        "import numpy as np\n",
        "import scipy as sp\n",
        "import matplotlib.pyplot as plt\n",
        "import seaborn as sns\n",
        "%matplotlib inline"
      ],
      "execution_count": null,
      "outputs": [
        {
          "output_type": "stream",
          "text": [
            "/usr/local/lib/python3.6/dist-packages/statsmodels/tools/_testing.py:19: FutureWarning: pandas.util.testing is deprecated. Use the functions in the public API at pandas.testing instead.\n",
            "  import pandas.util.testing as tm\n"
          ],
          "name": "stderr"
        }
      ]
    },
    {
      "cell_type": "code",
      "metadata": {
        "id": "DxygNUliZkwK"
      },
      "source": [
        "# Import KDDCUP IDS Dataset \n",
        "url='http://kdd.ics.uci.edu/databases/kddcup99/kddcup.data_10_percent.gz'\n",
        "#Create a dataframe \n",
        "df=pd.read_csv(url)"
      ],
      "execution_count": null,
      "outputs": []
    },
    {
      "cell_type": "code",
      "metadata": {
        "id": "69kYHYWQZ3Xn",
        "colab": {
          "base_uri": "https://localhost:8080/",
          "height": 35
        },
        "outputId": "d48e35a5-66c0-457f-e203-d379f65e9656"
      },
      "source": [
        "#Review the dataset\n",
        "print(df.shape)"
      ],
      "execution_count": null,
      "outputs": [
        {
          "output_type": "stream",
          "text": [
            "(494020, 42)\n"
          ],
          "name": "stdout"
        }
      ]
    },
    {
      "cell_type": "code",
      "metadata": {
        "id": "iJ3rQY3SlIxQ",
        "colab": {
          "base_uri": "https://localhost:8080/",
          "height": 35
        },
        "outputId": "771d9b45-cadf-4a60-e283-1862d8aff027"
      },
      "source": [
        "#Check the dimension\n",
        "df.columns\n",
        "print(type(df))"
      ],
      "execution_count": null,
      "outputs": [
        {
          "output_type": "stream",
          "text": [
            "<class 'pandas.core.frame.DataFrame'>\n"
          ],
          "name": "stdout"
        }
      ]
    },
    {
      "cell_type": "code",
      "metadata": {
        "id": "q2n6MzfYSnv-"
      },
      "source": [
        "# The CSV file has no column heads, so add them\n",
        "df.columns = [\n",
        "'duration',\n",
        "'protocol_type',\n",
        "'service',\n",
        "'flag',\n",
        "'src_bytes',\n",
        "'dst_bytes',\n",
        "'land',\n",
        "'wrong_fragment',\n",
        "'urgent',\n",
        "'hot',\n",
        "'num_failed_logins',\n",
        "'logged_in',\n",
        "'num_compromised',\n",
        "'root_shell',\n",
        "'su_attempted',\n",
        "'num_root',\n",
        "'num_file_creations',\n",
        "'num_shells',\n",
        "'num_access_files',\n",
        "'num_outbound_cmds',\n",
        "'is_host_login',\n",
        "'is_guest_login',\n",
        "'count',\n",
        "'srv_count',\n",
        "'serror_rate',\n",
        "'srv_serror_rate',\n",
        "'rerror_rate',\n",
        "'srv_rerror_rate',\n",
        "'same_srv_rate',\n",
        "'diff_srv_rate',\n",
        "'srv_diff_host_rate',\n",
        "'dst_host_count',\n",
        "'dst_host_srv_count',\n",
        "'dst_host_same_srv_rate',\n",
        "'dst_host_diff_srv_rate',\n",
        "'dst_host_same_src_port_rate',\n",
        "'dst_host_srv_diff_host_rate',\n",
        "'dst_host_serror_rate',\n",
        "'dst_host_srv_serror_rate',\n",
        "'dst_host_rerror_rate',\n",
        "'dst_host_srv_rerror_rate',\n",
        "'outcome'\n",
        "]"
      ],
      "execution_count": null,
      "outputs": []
    },
    {
      "cell_type": "code",
      "metadata": {
        "id": "DLAIUD66leyL",
        "colab": {
          "base_uri": "https://localhost:8080/",
          "height": 260
        },
        "outputId": "c79b233b-385d-488a-aac4-557b97310a20"
      },
      "source": [
        "df.columns"
      ],
      "execution_count": null,
      "outputs": [
        {
          "output_type": "execute_result",
          "data": {
            "text/plain": [
              "Index(['duration', 'protocol_type', 'service', 'flag', 'src_bytes',\n",
              "       'dst_bytes', 'land', 'wrong_fragment', 'urgent', 'hot',\n",
              "       'num_failed_logins', 'logged_in', 'num_compromised', 'root_shell',\n",
              "       'su_attempted', 'num_root', 'num_file_creations', 'num_shells',\n",
              "       'num_access_files', 'num_outbound_cmds', 'is_host_login',\n",
              "       'is_guest_login', 'count', 'srv_count', 'serror_rate',\n",
              "       'srv_serror_rate', 'rerror_rate', 'srv_rerror_rate', 'same_srv_rate',\n",
              "       'diff_srv_rate', 'srv_diff_host_rate', 'dst_host_count',\n",
              "       'dst_host_srv_count', 'dst_host_same_srv_rate',\n",
              "       'dst_host_diff_srv_rate', 'dst_host_same_src_port_rate',\n",
              "       'dst_host_srv_diff_host_rate', 'dst_host_serror_rate',\n",
              "       'dst_host_srv_serror_rate', 'dst_host_rerror_rate',\n",
              "       'dst_host_srv_rerror_rate', 'outcome'],\n",
              "      dtype='object')"
            ]
          },
          "metadata": {
            "tags": []
          },
          "execution_count": 7
        }
      ]
    },
    {
      "cell_type": "code",
      "metadata": {
        "id": "aOFiB-NjluNl",
        "colab": {
          "base_uri": "https://localhost:8080/",
          "height": 763
        },
        "outputId": "e543af8d-3234-4866-962c-28232d85f35c"
      },
      "source": [
        "#Data Preprocessing\n",
        "df.count()"
      ],
      "execution_count": null,
      "outputs": [
        {
          "output_type": "execute_result",
          "data": {
            "text/plain": [
              "duration                       494020\n",
              "protocol_type                  494020\n",
              "service                        494020\n",
              "flag                           494020\n",
              "src_bytes                      494020\n",
              "dst_bytes                      494020\n",
              "land                           494020\n",
              "wrong_fragment                 494020\n",
              "urgent                         494020\n",
              "hot                            494020\n",
              "num_failed_logins              494020\n",
              "logged_in                      494020\n",
              "num_compromised                494020\n",
              "root_shell                     494020\n",
              "su_attempted                   494020\n",
              "num_root                       494020\n",
              "num_file_creations             494020\n",
              "num_shells                     494020\n",
              "num_access_files               494020\n",
              "num_outbound_cmds              494020\n",
              "is_host_login                  494020\n",
              "is_guest_login                 494020\n",
              "count                          494020\n",
              "srv_count                      494020\n",
              "serror_rate                    494020\n",
              "srv_serror_rate                494020\n",
              "rerror_rate                    494020\n",
              "srv_rerror_rate                494020\n",
              "same_srv_rate                  494020\n",
              "diff_srv_rate                  494020\n",
              "srv_diff_host_rate             494020\n",
              "dst_host_count                 494020\n",
              "dst_host_srv_count             494020\n",
              "dst_host_same_srv_rate         494020\n",
              "dst_host_diff_srv_rate         494020\n",
              "dst_host_same_src_port_rate    494020\n",
              "dst_host_srv_diff_host_rate    494020\n",
              "dst_host_serror_rate           494020\n",
              "dst_host_srv_serror_rate       494020\n",
              "dst_host_rerror_rate           494020\n",
              "dst_host_srv_rerror_rate       494020\n",
              "outcome                        494020\n",
              "dtype: int64"
            ]
          },
          "metadata": {
            "tags": []
          },
          "execution_count": 8
        }
      ]
    },
    {
      "cell_type": "code",
      "metadata": {
        "id": "LZCSCcdvl4nU",
        "colab": {
          "base_uri": "https://localhost:8080/",
          "height": 222
        },
        "outputId": "5ae41e29-6484-49fa-8d34-607e5990c751"
      },
      "source": [
        "#Review the dataset\n",
        "df[0:5]"
      ],
      "execution_count": null,
      "outputs": [
        {
          "output_type": "execute_result",
          "data": {
            "text/html": [
              "<div>\n",
              "<style scoped>\n",
              "    .dataframe tbody tr th:only-of-type {\n",
              "        vertical-align: middle;\n",
              "    }\n",
              "\n",
              "    .dataframe tbody tr th {\n",
              "        vertical-align: top;\n",
              "    }\n",
              "\n",
              "    .dataframe thead th {\n",
              "        text-align: right;\n",
              "    }\n",
              "</style>\n",
              "<table border=\"1\" class=\"dataframe\">\n",
              "  <thead>\n",
              "    <tr style=\"text-align: right;\">\n",
              "      <th></th>\n",
              "      <th>duration</th>\n",
              "      <th>protocol_type</th>\n",
              "      <th>service</th>\n",
              "      <th>flag</th>\n",
              "      <th>src_bytes</th>\n",
              "      <th>dst_bytes</th>\n",
              "      <th>land</th>\n",
              "      <th>wrong_fragment</th>\n",
              "      <th>urgent</th>\n",
              "      <th>hot</th>\n",
              "      <th>num_failed_logins</th>\n",
              "      <th>logged_in</th>\n",
              "      <th>num_compromised</th>\n",
              "      <th>root_shell</th>\n",
              "      <th>su_attempted</th>\n",
              "      <th>num_root</th>\n",
              "      <th>num_file_creations</th>\n",
              "      <th>num_shells</th>\n",
              "      <th>num_access_files</th>\n",
              "      <th>num_outbound_cmds</th>\n",
              "      <th>is_host_login</th>\n",
              "      <th>is_guest_login</th>\n",
              "      <th>count</th>\n",
              "      <th>srv_count</th>\n",
              "      <th>serror_rate</th>\n",
              "      <th>srv_serror_rate</th>\n",
              "      <th>rerror_rate</th>\n",
              "      <th>srv_rerror_rate</th>\n",
              "      <th>same_srv_rate</th>\n",
              "      <th>diff_srv_rate</th>\n",
              "      <th>srv_diff_host_rate</th>\n",
              "      <th>dst_host_count</th>\n",
              "      <th>dst_host_srv_count</th>\n",
              "      <th>dst_host_same_srv_rate</th>\n",
              "      <th>dst_host_diff_srv_rate</th>\n",
              "      <th>dst_host_same_src_port_rate</th>\n",
              "      <th>dst_host_srv_diff_host_rate</th>\n",
              "      <th>dst_host_serror_rate</th>\n",
              "      <th>dst_host_srv_serror_rate</th>\n",
              "      <th>dst_host_rerror_rate</th>\n",
              "      <th>dst_host_srv_rerror_rate</th>\n",
              "      <th>outcome</th>\n",
              "    </tr>\n",
              "  </thead>\n",
              "  <tbody>\n",
              "    <tr>\n",
              "      <th>0</th>\n",
              "      <td>0</td>\n",
              "      <td>tcp</td>\n",
              "      <td>http</td>\n",
              "      <td>SF</td>\n",
              "      <td>239</td>\n",
              "      <td>486</td>\n",
              "      <td>0</td>\n",
              "      <td>0</td>\n",
              "      <td>0</td>\n",
              "      <td>0</td>\n",
              "      <td>0</td>\n",
              "      <td>1</td>\n",
              "      <td>0</td>\n",
              "      <td>0</td>\n",
              "      <td>0</td>\n",
              "      <td>0</td>\n",
              "      <td>0</td>\n",
              "      <td>0</td>\n",
              "      <td>0</td>\n",
              "      <td>0</td>\n",
              "      <td>0</td>\n",
              "      <td>0</td>\n",
              "      <td>8</td>\n",
              "      <td>8</td>\n",
              "      <td>0.0</td>\n",
              "      <td>0.0</td>\n",
              "      <td>0.0</td>\n",
              "      <td>0.0</td>\n",
              "      <td>1.0</td>\n",
              "      <td>0.0</td>\n",
              "      <td>0.0</td>\n",
              "      <td>19</td>\n",
              "      <td>19</td>\n",
              "      <td>1.0</td>\n",
              "      <td>0.0</td>\n",
              "      <td>0.05</td>\n",
              "      <td>0.0</td>\n",
              "      <td>0.0</td>\n",
              "      <td>0.0</td>\n",
              "      <td>0.0</td>\n",
              "      <td>0.0</td>\n",
              "      <td>normal.</td>\n",
              "    </tr>\n",
              "    <tr>\n",
              "      <th>1</th>\n",
              "      <td>0</td>\n",
              "      <td>tcp</td>\n",
              "      <td>http</td>\n",
              "      <td>SF</td>\n",
              "      <td>235</td>\n",
              "      <td>1337</td>\n",
              "      <td>0</td>\n",
              "      <td>0</td>\n",
              "      <td>0</td>\n",
              "      <td>0</td>\n",
              "      <td>0</td>\n",
              "      <td>1</td>\n",
              "      <td>0</td>\n",
              "      <td>0</td>\n",
              "      <td>0</td>\n",
              "      <td>0</td>\n",
              "      <td>0</td>\n",
              "      <td>0</td>\n",
              "      <td>0</td>\n",
              "      <td>0</td>\n",
              "      <td>0</td>\n",
              "      <td>0</td>\n",
              "      <td>8</td>\n",
              "      <td>8</td>\n",
              "      <td>0.0</td>\n",
              "      <td>0.0</td>\n",
              "      <td>0.0</td>\n",
              "      <td>0.0</td>\n",
              "      <td>1.0</td>\n",
              "      <td>0.0</td>\n",
              "      <td>0.0</td>\n",
              "      <td>29</td>\n",
              "      <td>29</td>\n",
              "      <td>1.0</td>\n",
              "      <td>0.0</td>\n",
              "      <td>0.03</td>\n",
              "      <td>0.0</td>\n",
              "      <td>0.0</td>\n",
              "      <td>0.0</td>\n",
              "      <td>0.0</td>\n",
              "      <td>0.0</td>\n",
              "      <td>normal.</td>\n",
              "    </tr>\n",
              "    <tr>\n",
              "      <th>2</th>\n",
              "      <td>0</td>\n",
              "      <td>tcp</td>\n",
              "      <td>http</td>\n",
              "      <td>SF</td>\n",
              "      <td>219</td>\n",
              "      <td>1337</td>\n",
              "      <td>0</td>\n",
              "      <td>0</td>\n",
              "      <td>0</td>\n",
              "      <td>0</td>\n",
              "      <td>0</td>\n",
              "      <td>1</td>\n",
              "      <td>0</td>\n",
              "      <td>0</td>\n",
              "      <td>0</td>\n",
              "      <td>0</td>\n",
              "      <td>0</td>\n",
              "      <td>0</td>\n",
              "      <td>0</td>\n",
              "      <td>0</td>\n",
              "      <td>0</td>\n",
              "      <td>0</td>\n",
              "      <td>6</td>\n",
              "      <td>6</td>\n",
              "      <td>0.0</td>\n",
              "      <td>0.0</td>\n",
              "      <td>0.0</td>\n",
              "      <td>0.0</td>\n",
              "      <td>1.0</td>\n",
              "      <td>0.0</td>\n",
              "      <td>0.0</td>\n",
              "      <td>39</td>\n",
              "      <td>39</td>\n",
              "      <td>1.0</td>\n",
              "      <td>0.0</td>\n",
              "      <td>0.03</td>\n",
              "      <td>0.0</td>\n",
              "      <td>0.0</td>\n",
              "      <td>0.0</td>\n",
              "      <td>0.0</td>\n",
              "      <td>0.0</td>\n",
              "      <td>normal.</td>\n",
              "    </tr>\n",
              "    <tr>\n",
              "      <th>3</th>\n",
              "      <td>0</td>\n",
              "      <td>tcp</td>\n",
              "      <td>http</td>\n",
              "      <td>SF</td>\n",
              "      <td>217</td>\n",
              "      <td>2032</td>\n",
              "      <td>0</td>\n",
              "      <td>0</td>\n",
              "      <td>0</td>\n",
              "      <td>0</td>\n",
              "      <td>0</td>\n",
              "      <td>1</td>\n",
              "      <td>0</td>\n",
              "      <td>0</td>\n",
              "      <td>0</td>\n",
              "      <td>0</td>\n",
              "      <td>0</td>\n",
              "      <td>0</td>\n",
              "      <td>0</td>\n",
              "      <td>0</td>\n",
              "      <td>0</td>\n",
              "      <td>0</td>\n",
              "      <td>6</td>\n",
              "      <td>6</td>\n",
              "      <td>0.0</td>\n",
              "      <td>0.0</td>\n",
              "      <td>0.0</td>\n",
              "      <td>0.0</td>\n",
              "      <td>1.0</td>\n",
              "      <td>0.0</td>\n",
              "      <td>0.0</td>\n",
              "      <td>49</td>\n",
              "      <td>49</td>\n",
              "      <td>1.0</td>\n",
              "      <td>0.0</td>\n",
              "      <td>0.02</td>\n",
              "      <td>0.0</td>\n",
              "      <td>0.0</td>\n",
              "      <td>0.0</td>\n",
              "      <td>0.0</td>\n",
              "      <td>0.0</td>\n",
              "      <td>normal.</td>\n",
              "    </tr>\n",
              "    <tr>\n",
              "      <th>4</th>\n",
              "      <td>0</td>\n",
              "      <td>tcp</td>\n",
              "      <td>http</td>\n",
              "      <td>SF</td>\n",
              "      <td>217</td>\n",
              "      <td>2032</td>\n",
              "      <td>0</td>\n",
              "      <td>0</td>\n",
              "      <td>0</td>\n",
              "      <td>0</td>\n",
              "      <td>0</td>\n",
              "      <td>1</td>\n",
              "      <td>0</td>\n",
              "      <td>0</td>\n",
              "      <td>0</td>\n",
              "      <td>0</td>\n",
              "      <td>0</td>\n",
              "      <td>0</td>\n",
              "      <td>0</td>\n",
              "      <td>0</td>\n",
              "      <td>0</td>\n",
              "      <td>0</td>\n",
              "      <td>6</td>\n",
              "      <td>6</td>\n",
              "      <td>0.0</td>\n",
              "      <td>0.0</td>\n",
              "      <td>0.0</td>\n",
              "      <td>0.0</td>\n",
              "      <td>1.0</td>\n",
              "      <td>0.0</td>\n",
              "      <td>0.0</td>\n",
              "      <td>59</td>\n",
              "      <td>59</td>\n",
              "      <td>1.0</td>\n",
              "      <td>0.0</td>\n",
              "      <td>0.02</td>\n",
              "      <td>0.0</td>\n",
              "      <td>0.0</td>\n",
              "      <td>0.0</td>\n",
              "      <td>0.0</td>\n",
              "      <td>0.0</td>\n",
              "      <td>normal.</td>\n",
              "    </tr>\n",
              "  </tbody>\n",
              "</table>\n",
              "</div>"
            ],
            "text/plain": [
              "   duration protocol_type  ... dst_host_srv_rerror_rate  outcome\n",
              "0         0           tcp  ...                      0.0  normal.\n",
              "1         0           tcp  ...                      0.0  normal.\n",
              "2         0           tcp  ...                      0.0  normal.\n",
              "3         0           tcp  ...                      0.0  normal.\n",
              "4         0           tcp  ...                      0.0  normal.\n",
              "\n",
              "[5 rows x 42 columns]"
            ]
          },
          "metadata": {
            "tags": []
          },
          "execution_count": 9
        }
      ]
    },
    {
      "cell_type": "code",
      "metadata": {
        "id": "iwac_r4hmPVE",
        "colab": {
          "base_uri": "https://localhost:8080/",
          "height": 763
        },
        "outputId": "7c1d88f9-78d7-493e-ae66-09910d3fea76"
      },
      "source": [
        "# Understnad the data types\n",
        "df.dtypes"
      ],
      "execution_count": null,
      "outputs": [
        {
          "output_type": "execute_result",
          "data": {
            "text/plain": [
              "duration                         int64\n",
              "protocol_type                   object\n",
              "service                         object\n",
              "flag                            object\n",
              "src_bytes                        int64\n",
              "dst_bytes                        int64\n",
              "land                             int64\n",
              "wrong_fragment                   int64\n",
              "urgent                           int64\n",
              "hot                              int64\n",
              "num_failed_logins                int64\n",
              "logged_in                        int64\n",
              "num_compromised                  int64\n",
              "root_shell                       int64\n",
              "su_attempted                     int64\n",
              "num_root                         int64\n",
              "num_file_creations               int64\n",
              "num_shells                       int64\n",
              "num_access_files                 int64\n",
              "num_outbound_cmds                int64\n",
              "is_host_login                    int64\n",
              "is_guest_login                   int64\n",
              "count                            int64\n",
              "srv_count                        int64\n",
              "serror_rate                    float64\n",
              "srv_serror_rate                float64\n",
              "rerror_rate                    float64\n",
              "srv_rerror_rate                float64\n",
              "same_srv_rate                  float64\n",
              "diff_srv_rate                  float64\n",
              "srv_diff_host_rate             float64\n",
              "dst_host_count                   int64\n",
              "dst_host_srv_count               int64\n",
              "dst_host_same_srv_rate         float64\n",
              "dst_host_diff_srv_rate         float64\n",
              "dst_host_same_src_port_rate    float64\n",
              "dst_host_srv_diff_host_rate    float64\n",
              "dst_host_serror_rate           float64\n",
              "dst_host_srv_serror_rate       float64\n",
              "dst_host_rerror_rate           float64\n",
              "dst_host_srv_rerror_rate       float64\n",
              "outcome                         object\n",
              "dtype: object"
            ]
          },
          "metadata": {
            "tags": []
          },
          "execution_count": 10
        }
      ]
    },
    {
      "cell_type": "code",
      "metadata": {
        "id": "pwValAFAmZJO",
        "colab": {
          "base_uri": "https://localhost:8080/",
          "height": 314
        },
        "outputId": "fab783d3-118e-4073-a083-a4d14e2b3cd1"
      },
      "source": [
        "#Statistical Analysis\n",
        "df.describe()"
      ],
      "execution_count": null,
      "outputs": [
        {
          "output_type": "execute_result",
          "data": {
            "text/html": [
              "<div>\n",
              "<style scoped>\n",
              "    .dataframe tbody tr th:only-of-type {\n",
              "        vertical-align: middle;\n",
              "    }\n",
              "\n",
              "    .dataframe tbody tr th {\n",
              "        vertical-align: top;\n",
              "    }\n",
              "\n",
              "    .dataframe thead th {\n",
              "        text-align: right;\n",
              "    }\n",
              "</style>\n",
              "<table border=\"1\" class=\"dataframe\">\n",
              "  <thead>\n",
              "    <tr style=\"text-align: right;\">\n",
              "      <th></th>\n",
              "      <th>duration</th>\n",
              "      <th>src_bytes</th>\n",
              "      <th>dst_bytes</th>\n",
              "      <th>land</th>\n",
              "      <th>wrong_fragment</th>\n",
              "      <th>urgent</th>\n",
              "      <th>hot</th>\n",
              "      <th>num_failed_logins</th>\n",
              "      <th>logged_in</th>\n",
              "      <th>num_compromised</th>\n",
              "      <th>root_shell</th>\n",
              "      <th>su_attempted</th>\n",
              "      <th>num_root</th>\n",
              "      <th>num_file_creations</th>\n",
              "      <th>num_shells</th>\n",
              "      <th>num_access_files</th>\n",
              "      <th>num_outbound_cmds</th>\n",
              "      <th>is_host_login</th>\n",
              "      <th>is_guest_login</th>\n",
              "      <th>count</th>\n",
              "      <th>srv_count</th>\n",
              "      <th>serror_rate</th>\n",
              "      <th>srv_serror_rate</th>\n",
              "      <th>rerror_rate</th>\n",
              "      <th>srv_rerror_rate</th>\n",
              "      <th>same_srv_rate</th>\n",
              "      <th>diff_srv_rate</th>\n",
              "      <th>srv_diff_host_rate</th>\n",
              "      <th>dst_host_count</th>\n",
              "      <th>dst_host_srv_count</th>\n",
              "      <th>dst_host_same_srv_rate</th>\n",
              "      <th>dst_host_diff_srv_rate</th>\n",
              "      <th>dst_host_same_src_port_rate</th>\n",
              "      <th>dst_host_srv_diff_host_rate</th>\n",
              "      <th>dst_host_serror_rate</th>\n",
              "      <th>dst_host_srv_serror_rate</th>\n",
              "      <th>dst_host_rerror_rate</th>\n",
              "      <th>dst_host_srv_rerror_rate</th>\n",
              "    </tr>\n",
              "  </thead>\n",
              "  <tbody>\n",
              "    <tr>\n",
              "      <th>count</th>\n",
              "      <td>494020.000000</td>\n",
              "      <td>4.940200e+05</td>\n",
              "      <td>4.940200e+05</td>\n",
              "      <td>494020.000000</td>\n",
              "      <td>494020.000000</td>\n",
              "      <td>494020.000000</td>\n",
              "      <td>494020.000000</td>\n",
              "      <td>494020.000000</td>\n",
              "      <td>494020.000000</td>\n",
              "      <td>494020.000000</td>\n",
              "      <td>494020.000000</td>\n",
              "      <td>494020.000000</td>\n",
              "      <td>494020.000000</td>\n",
              "      <td>494020.000000</td>\n",
              "      <td>494020.000000</td>\n",
              "      <td>494020.000000</td>\n",
              "      <td>494020.0</td>\n",
              "      <td>494020.0</td>\n",
              "      <td>494020.000000</td>\n",
              "      <td>494020.000000</td>\n",
              "      <td>494020.000000</td>\n",
              "      <td>494020.000000</td>\n",
              "      <td>494020.000000</td>\n",
              "      <td>494020.000000</td>\n",
              "      <td>494020.000000</td>\n",
              "      <td>494020.000000</td>\n",
              "      <td>494020.000000</td>\n",
              "      <td>494020.000000</td>\n",
              "      <td>494020.000000</td>\n",
              "      <td>494020.000000</td>\n",
              "      <td>494020.000000</td>\n",
              "      <td>494020.000000</td>\n",
              "      <td>494020.000000</td>\n",
              "      <td>494020.000000</td>\n",
              "      <td>494020.000000</td>\n",
              "      <td>494020.000000</td>\n",
              "      <td>494020.000000</td>\n",
              "      <td>494020.000000</td>\n",
              "    </tr>\n",
              "    <tr>\n",
              "      <th>mean</th>\n",
              "      <td>47.979400</td>\n",
              "      <td>3.025616e+03</td>\n",
              "      <td>8.685232e+02</td>\n",
              "      <td>0.000045</td>\n",
              "      <td>0.006433</td>\n",
              "      <td>0.000014</td>\n",
              "      <td>0.034519</td>\n",
              "      <td>0.000152</td>\n",
              "      <td>0.148245</td>\n",
              "      <td>0.010212</td>\n",
              "      <td>0.000111</td>\n",
              "      <td>0.000036</td>\n",
              "      <td>0.011352</td>\n",
              "      <td>0.001083</td>\n",
              "      <td>0.000109</td>\n",
              "      <td>0.001008</td>\n",
              "      <td>0.0</td>\n",
              "      <td>0.0</td>\n",
              "      <td>0.001387</td>\n",
              "      <td>332.286347</td>\n",
              "      <td>292.907133</td>\n",
              "      <td>0.176687</td>\n",
              "      <td>0.176609</td>\n",
              "      <td>0.057434</td>\n",
              "      <td>0.057719</td>\n",
              "      <td>0.791547</td>\n",
              "      <td>0.020982</td>\n",
              "      <td>0.028997</td>\n",
              "      <td>232.471230</td>\n",
              "      <td>188.666034</td>\n",
              "      <td>0.753779</td>\n",
              "      <td>0.030906</td>\n",
              "      <td>0.601936</td>\n",
              "      <td>0.006684</td>\n",
              "      <td>0.176754</td>\n",
              "      <td>0.176443</td>\n",
              "      <td>0.058118</td>\n",
              "      <td>0.057412</td>\n",
              "    </tr>\n",
              "    <tr>\n",
              "      <th>std</th>\n",
              "      <td>707.747185</td>\n",
              "      <td>9.882191e+05</td>\n",
              "      <td>3.304003e+04</td>\n",
              "      <td>0.006673</td>\n",
              "      <td>0.134805</td>\n",
              "      <td>0.005510</td>\n",
              "      <td>0.782103</td>\n",
              "      <td>0.015520</td>\n",
              "      <td>0.355343</td>\n",
              "      <td>1.798328</td>\n",
              "      <td>0.010551</td>\n",
              "      <td>0.007793</td>\n",
              "      <td>2.012720</td>\n",
              "      <td>0.096416</td>\n",
              "      <td>0.011020</td>\n",
              "      <td>0.036482</td>\n",
              "      <td>0.0</td>\n",
              "      <td>0.0</td>\n",
              "      <td>0.037211</td>\n",
              "      <td>213.147129</td>\n",
              "      <td>246.322733</td>\n",
              "      <td>0.380717</td>\n",
              "      <td>0.381017</td>\n",
              "      <td>0.231624</td>\n",
              "      <td>0.232147</td>\n",
              "      <td>0.388190</td>\n",
              "      <td>0.082206</td>\n",
              "      <td>0.142398</td>\n",
              "      <td>64.744665</td>\n",
              "      <td>106.040236</td>\n",
              "      <td>0.410781</td>\n",
              "      <td>0.109259</td>\n",
              "      <td>0.481309</td>\n",
              "      <td>0.042133</td>\n",
              "      <td>0.380593</td>\n",
              "      <td>0.380920</td>\n",
              "      <td>0.230590</td>\n",
              "      <td>0.230141</td>\n",
              "    </tr>\n",
              "    <tr>\n",
              "      <th>min</th>\n",
              "      <td>0.000000</td>\n",
              "      <td>0.000000e+00</td>\n",
              "      <td>0.000000e+00</td>\n",
              "      <td>0.000000</td>\n",
              "      <td>0.000000</td>\n",
              "      <td>0.000000</td>\n",
              "      <td>0.000000</td>\n",
              "      <td>0.000000</td>\n",
              "      <td>0.000000</td>\n",
              "      <td>0.000000</td>\n",
              "      <td>0.000000</td>\n",
              "      <td>0.000000</td>\n",
              "      <td>0.000000</td>\n",
              "      <td>0.000000</td>\n",
              "      <td>0.000000</td>\n",
              "      <td>0.000000</td>\n",
              "      <td>0.0</td>\n",
              "      <td>0.0</td>\n",
              "      <td>0.000000</td>\n",
              "      <td>0.000000</td>\n",
              "      <td>0.000000</td>\n",
              "      <td>0.000000</td>\n",
              "      <td>0.000000</td>\n",
              "      <td>0.000000</td>\n",
              "      <td>0.000000</td>\n",
              "      <td>0.000000</td>\n",
              "      <td>0.000000</td>\n",
              "      <td>0.000000</td>\n",
              "      <td>0.000000</td>\n",
              "      <td>0.000000</td>\n",
              "      <td>0.000000</td>\n",
              "      <td>0.000000</td>\n",
              "      <td>0.000000</td>\n",
              "      <td>0.000000</td>\n",
              "      <td>0.000000</td>\n",
              "      <td>0.000000</td>\n",
              "      <td>0.000000</td>\n",
              "      <td>0.000000</td>\n",
              "    </tr>\n",
              "    <tr>\n",
              "      <th>25%</th>\n",
              "      <td>0.000000</td>\n",
              "      <td>4.500000e+01</td>\n",
              "      <td>0.000000e+00</td>\n",
              "      <td>0.000000</td>\n",
              "      <td>0.000000</td>\n",
              "      <td>0.000000</td>\n",
              "      <td>0.000000</td>\n",
              "      <td>0.000000</td>\n",
              "      <td>0.000000</td>\n",
              "      <td>0.000000</td>\n",
              "      <td>0.000000</td>\n",
              "      <td>0.000000</td>\n",
              "      <td>0.000000</td>\n",
              "      <td>0.000000</td>\n",
              "      <td>0.000000</td>\n",
              "      <td>0.000000</td>\n",
              "      <td>0.0</td>\n",
              "      <td>0.0</td>\n",
              "      <td>0.000000</td>\n",
              "      <td>117.000000</td>\n",
              "      <td>10.000000</td>\n",
              "      <td>0.000000</td>\n",
              "      <td>0.000000</td>\n",
              "      <td>0.000000</td>\n",
              "      <td>0.000000</td>\n",
              "      <td>1.000000</td>\n",
              "      <td>0.000000</td>\n",
              "      <td>0.000000</td>\n",
              "      <td>255.000000</td>\n",
              "      <td>46.000000</td>\n",
              "      <td>0.410000</td>\n",
              "      <td>0.000000</td>\n",
              "      <td>0.000000</td>\n",
              "      <td>0.000000</td>\n",
              "      <td>0.000000</td>\n",
              "      <td>0.000000</td>\n",
              "      <td>0.000000</td>\n",
              "      <td>0.000000</td>\n",
              "    </tr>\n",
              "    <tr>\n",
              "      <th>50%</th>\n",
              "      <td>0.000000</td>\n",
              "      <td>5.200000e+02</td>\n",
              "      <td>0.000000e+00</td>\n",
              "      <td>0.000000</td>\n",
              "      <td>0.000000</td>\n",
              "      <td>0.000000</td>\n",
              "      <td>0.000000</td>\n",
              "      <td>0.000000</td>\n",
              "      <td>0.000000</td>\n",
              "      <td>0.000000</td>\n",
              "      <td>0.000000</td>\n",
              "      <td>0.000000</td>\n",
              "      <td>0.000000</td>\n",
              "      <td>0.000000</td>\n",
              "      <td>0.000000</td>\n",
              "      <td>0.000000</td>\n",
              "      <td>0.0</td>\n",
              "      <td>0.0</td>\n",
              "      <td>0.000000</td>\n",
              "      <td>510.000000</td>\n",
              "      <td>510.000000</td>\n",
              "      <td>0.000000</td>\n",
              "      <td>0.000000</td>\n",
              "      <td>0.000000</td>\n",
              "      <td>0.000000</td>\n",
              "      <td>1.000000</td>\n",
              "      <td>0.000000</td>\n",
              "      <td>0.000000</td>\n",
              "      <td>255.000000</td>\n",
              "      <td>255.000000</td>\n",
              "      <td>1.000000</td>\n",
              "      <td>0.000000</td>\n",
              "      <td>1.000000</td>\n",
              "      <td>0.000000</td>\n",
              "      <td>0.000000</td>\n",
              "      <td>0.000000</td>\n",
              "      <td>0.000000</td>\n",
              "      <td>0.000000</td>\n",
              "    </tr>\n",
              "    <tr>\n",
              "      <th>75%</th>\n",
              "      <td>0.000000</td>\n",
              "      <td>1.032000e+03</td>\n",
              "      <td>0.000000e+00</td>\n",
              "      <td>0.000000</td>\n",
              "      <td>0.000000</td>\n",
              "      <td>0.000000</td>\n",
              "      <td>0.000000</td>\n",
              "      <td>0.000000</td>\n",
              "      <td>0.000000</td>\n",
              "      <td>0.000000</td>\n",
              "      <td>0.000000</td>\n",
              "      <td>0.000000</td>\n",
              "      <td>0.000000</td>\n",
              "      <td>0.000000</td>\n",
              "      <td>0.000000</td>\n",
              "      <td>0.000000</td>\n",
              "      <td>0.0</td>\n",
              "      <td>0.0</td>\n",
              "      <td>0.000000</td>\n",
              "      <td>511.000000</td>\n",
              "      <td>511.000000</td>\n",
              "      <td>0.000000</td>\n",
              "      <td>0.000000</td>\n",
              "      <td>0.000000</td>\n",
              "      <td>0.000000</td>\n",
              "      <td>1.000000</td>\n",
              "      <td>0.000000</td>\n",
              "      <td>0.000000</td>\n",
              "      <td>255.000000</td>\n",
              "      <td>255.000000</td>\n",
              "      <td>1.000000</td>\n",
              "      <td>0.040000</td>\n",
              "      <td>1.000000</td>\n",
              "      <td>0.000000</td>\n",
              "      <td>0.000000</td>\n",
              "      <td>0.000000</td>\n",
              "      <td>0.000000</td>\n",
              "      <td>0.000000</td>\n",
              "    </tr>\n",
              "    <tr>\n",
              "      <th>max</th>\n",
              "      <td>58329.000000</td>\n",
              "      <td>6.933756e+08</td>\n",
              "      <td>5.155468e+06</td>\n",
              "      <td>1.000000</td>\n",
              "      <td>3.000000</td>\n",
              "      <td>3.000000</td>\n",
              "      <td>30.000000</td>\n",
              "      <td>5.000000</td>\n",
              "      <td>1.000000</td>\n",
              "      <td>884.000000</td>\n",
              "      <td>1.000000</td>\n",
              "      <td>2.000000</td>\n",
              "      <td>993.000000</td>\n",
              "      <td>28.000000</td>\n",
              "      <td>2.000000</td>\n",
              "      <td>8.000000</td>\n",
              "      <td>0.0</td>\n",
              "      <td>0.0</td>\n",
              "      <td>1.000000</td>\n",
              "      <td>511.000000</td>\n",
              "      <td>511.000000</td>\n",
              "      <td>1.000000</td>\n",
              "      <td>1.000000</td>\n",
              "      <td>1.000000</td>\n",
              "      <td>1.000000</td>\n",
              "      <td>1.000000</td>\n",
              "      <td>1.000000</td>\n",
              "      <td>1.000000</td>\n",
              "      <td>255.000000</td>\n",
              "      <td>255.000000</td>\n",
              "      <td>1.000000</td>\n",
              "      <td>1.000000</td>\n",
              "      <td>1.000000</td>\n",
              "      <td>1.000000</td>\n",
              "      <td>1.000000</td>\n",
              "      <td>1.000000</td>\n",
              "      <td>1.000000</td>\n",
              "      <td>1.000000</td>\n",
              "    </tr>\n",
              "  </tbody>\n",
              "</table>\n",
              "</div>"
            ],
            "text/plain": [
              "            duration  ...  dst_host_srv_rerror_rate\n",
              "count  494020.000000  ...             494020.000000\n",
              "mean       47.979400  ...                  0.057412\n",
              "std       707.747185  ...                  0.230141\n",
              "min         0.000000  ...                  0.000000\n",
              "25%         0.000000  ...                  0.000000\n",
              "50%         0.000000  ...                  0.000000\n",
              "75%         0.000000  ...                  0.000000\n",
              "max     58329.000000  ...                  1.000000\n",
              "\n",
              "[8 rows x 38 columns]"
            ]
          },
          "metadata": {
            "tags": []
          },
          "execution_count": 11
        }
      ]
    },
    {
      "cell_type": "code",
      "metadata": {
        "id": "zO0rBFuBmxGA",
        "colab": {
          "base_uri": "https://localhost:8080/",
          "height": 191
        },
        "outputId": "bbd4ce06-6827-46f4-b324-2e1a5d4eaa90"
      },
      "source": [
        "#Groupby Function\n",
        "# What are the types of intrusions, frequency count (attack distribution), how (Why, What,Where,When,Whom,How)\n",
        "#Decribing the data:  Labeled Dataset-Outcome\n",
        "# How many types of attack-22\n",
        "print(len(df.outcome.unique()))\n",
        "#What are the attacks:\n",
        "print(df.outcome.unique())\n",
        "#Attack distrubutions\n",
        "df.outcome.describe()\n"
      ],
      "execution_count": null,
      "outputs": [
        {
          "output_type": "stream",
          "text": [
            "23\n",
            "['normal.' 'buffer_overflow.' 'loadmodule.' 'perl.' 'neptune.' 'smurf.'\n",
            " 'guess_passwd.' 'pod.' 'teardrop.' 'portsweep.' 'ipsweep.' 'land.'\n",
            " 'ftp_write.' 'back.' 'imap.' 'satan.' 'phf.' 'nmap.' 'multihop.'\n",
            " 'warezmaster.' 'warezclient.' 'spy.' 'rootkit.']\n"
          ],
          "name": "stdout"
        },
        {
          "output_type": "execute_result",
          "data": {
            "text/plain": [
              "count     494020\n",
              "unique        23\n",
              "top       smurf.\n",
              "freq      280790\n",
              "Name: outcome, dtype: object"
            ]
          },
          "metadata": {
            "tags": []
          },
          "execution_count": 12
        }
      ]
    },
    {
      "cell_type": "code",
      "metadata": {
        "id": "TD_QqT9mom1b",
        "colab": {
          "base_uri": "https://localhost:8080/",
          "height": 451
        },
        "outputId": "53ad7986-c6de-4956-9f2d-73e317abe77a"
      },
      "source": [
        "#Pandas Groupby\n",
        "df.groupby('outcome')['outcome'].count()"
      ],
      "execution_count": null,
      "outputs": [
        {
          "output_type": "execute_result",
          "data": {
            "text/plain": [
              "outcome\n",
              "back.                 2203\n",
              "buffer_overflow.        30\n",
              "ftp_write.               8\n",
              "guess_passwd.           53\n",
              "imap.                   12\n",
              "ipsweep.              1247\n",
              "land.                   21\n",
              "loadmodule.              9\n",
              "multihop.                7\n",
              "neptune.            107201\n",
              "nmap.                  231\n",
              "normal.              97277\n",
              "perl.                    3\n",
              "phf.                     4\n",
              "pod.                   264\n",
              "portsweep.            1040\n",
              "rootkit.                10\n",
              "satan.                1589\n",
              "smurf.              280790\n",
              "spy.                     2\n",
              "teardrop.              979\n",
              "warezclient.          1020\n",
              "warezmaster.            20\n",
              "Name: outcome, dtype: int64"
            ]
          },
          "metadata": {
            "tags": []
          },
          "execution_count": 13
        }
      ]
    },
    {
      "cell_type": "code",
      "metadata": {
        "id": "IhNSW3PfpFWZ",
        "colab": {
          "base_uri": "https://localhost:8080/",
          "height": 353
        },
        "outputId": "08ba3cb3-75af-4e6a-9741-5119c765d41b"
      },
      "source": [
        "#Graphical Analysis\n",
        "plt.figure(figsize=(15,5))\n",
        "sns.countplot(df.outcome)"
      ],
      "execution_count": null,
      "outputs": [
        {
          "output_type": "execute_result",
          "data": {
            "text/plain": [
              "<matplotlib.axes._subplots.AxesSubplot at 0x7fae2a19ba58>"
            ]
          },
          "metadata": {
            "tags": []
          },
          "execution_count": 14
        },
        {
          "output_type": "display_data",
          "data": {
            "image/png": "[encoded data removed]",
            "text/plain": [
              "<Figure size 1080x360 with 1 Axes>"
            ]
          },
          "metadata": {
            "tags": [],
            "needs_background": "light"
          }
        }
      ]
    },
    {
      "cell_type": "code",
      "metadata": {
        "id": "d2tG2Dj_atKF"
      },
      "source": [
        "#\n",
        "#df=df.sample(frac=0.01,replace=False )"
      ],
      "execution_count": null,
      "outputs": []
    },
    {
      "cell_type": "code",
      "metadata": {
        "id": "dWXRaWt3Syd_"
      },
      "source": [
        "#Use groupby function of pandas list the no of intrusions.\n",
        "#Find the max and min no of intrusions.\n"
      ],
      "execution_count": null,
      "outputs": []
    },
    {
      "cell_type": "code",
      "metadata": {
        "id": "iGhmC0Q3a5Fu",
        "colab": {
          "base_uri": "https://localhost:8080/",
          "height": 104
        },
        "outputId": "f0c76a12-26d8-4afc-d7e0-f6f277b86268"
      },
      "source": [
        "#What are the types of attacks and which are those\n",
        "print(len(df.outcome.unique()))\n",
        "print(df.outcome.unique())\n",
        "\n"
      ],
      "execution_count": null,
      "outputs": [
        {
          "output_type": "stream",
          "text": [
            "23\n",
            "['normal.' 'buffer_overflow.' 'loadmodule.' 'perl.' 'neptune.' 'smurf.'\n",
            " 'guess_passwd.' 'pod.' 'teardrop.' 'portsweep.' 'ipsweep.' 'land.'\n",
            " 'ftp_write.' 'back.' 'imap.' 'satan.' 'phf.' 'nmap.' 'multihop.'\n",
            " 'warezmaster.' 'warezclient.' 'spy.' 'rootkit.']\n"
          ],
          "name": "stdout"
        }
      ]
    },
    {
      "cell_type": "code",
      "metadata": {
        "id": "3rAULSskbyzV"
      },
      "source": [
        "# Data Missing: Drop the observation (crude) or Data Imputation\n"
      ],
      "execution_count": null,
      "outputs": []
    },
    {
      "cell_type": "code",
      "metadata": {
        "id": "Z1S3oGKKS5e9"
      },
      "source": [
        "#Intrusions are broadly classified into four categories\n",
        "# Map these intrusions in four classes: DoS, R2L,U2R and Probe and Normal (No attack)\n",
        "#probe={\"ipsweep.\",\"portsweep.\",\"nmap.\",\"satan.\"} (Total=04)\n",
        "#r2l={\"ftp_write.\", \"guess_passwd.\",\"imap.\",\"multihop.\",\"phf.\",\"spy.\", \"warezclient.\",\"warezmaster.\"} (Total=08)\n",
        "#u2r={\"buffer_overflow.\",\"loadmodule.\",\"perl.\", \"rootkit.\"} (Total=04)\n",
        "#dos={\"back.\", \"land.\" ,\" \"neptune.\", \"pod.\",\"smurf.\",\"teardrop.\"} (Total=6)\n",
        "#normal = {\"normal\" }"
      ],
      "execution_count": null,
      "outputs": []
    },
    {
      "cell_type": "code",
      "metadata": {
        "id": "6mVfFN3ce3JP"
      },
      "source": [
        "## 22 attacks ---> 4 classes (Probe,R2L, U2R, DoS)\n",
        "df=df.replace(to_replace=[\"ipsweep.\",\"portsweep.\",\"nmap.\",\"satan.\"],value=\"probe\")\n",
        "df=df.replace(to_replace=[\"ftp_write.\", \"guess_passwd.\",\"imap.\",\"multihop.\",\"phf.\",\"spy.\", \"warezclient.\",\"warezmaster.\"],value=\"r2l\")\n",
        "df=df.replace(to_replace=[\"buffer_overflow.\",\"loadmodule.\",\"perl.\", \"rootkit.\"],value=\"u2r\")\n",
        "df=df.replace(to_replace=[\"back.\", \"land.\" ,\"neptune.\", \"pod.\",\"smurf.\",\"teardrop.\"],value=\"dos\")\n"
      ],
      "execution_count": null,
      "outputs": []
    },
    {
      "cell_type": "code",
      "metadata": {
        "id": "_JI3VUjjp28F",
        "colab": {
          "base_uri": "https://localhost:8080/",
          "height": 351
        },
        "outputId": "61a51654-9203-4885-c629-b0882f92fbc8"
      },
      "source": [
        "#Replot \n",
        "plt.figure(figsize=(15,5))\n",
        "sns.countplot(df.outcome)"
      ],
      "execution_count": null,
      "outputs": [
        {
          "output_type": "execute_result",
          "data": {
            "text/plain": [
              "<matplotlib.axes._subplots.AxesSubplot at 0x7fae2a19ba90>"
            ]
          },
          "metadata": {
            "tags": []
          },
          "execution_count": 21
        },
        {
          "output_type": "display_data",
          "data": {
            "image/png": "[encoded data removed]",
            "text/plain": [
              "<Figure size 1080x360 with 1 Axes>"
            ]
          },
          "metadata": {
            "tags": [],
            "needs_background": "light"
          }
        }
      ]
    },
    {
      "cell_type": "code",
      "metadata": {
        "id": "_9M8gQQ8qBg-",
        "colab": {
          "base_uri": "https://localhost:8080/",
          "height": 139
        },
        "outputId": "36cc6886-cecc-482f-a5ca-93d354e5fe43"
      },
      "source": [
        "df.groupby('outcome')['outcome'].count()"
      ],
      "execution_count": null,
      "outputs": [
        {
          "output_type": "execute_result",
          "data": {
            "text/plain": [
              "outcome\n",
              "dos        391458\n",
              "normal.     97277\n",
              "probe        4107\n",
              "r2l          1126\n",
              "u2r            52\n",
              "Name: outcome, dtype: int64"
            ]
          },
          "metadata": {
            "tags": []
          },
          "execution_count": 22
        }
      ]
    },
    {
      "cell_type": "code",
      "metadata": {
        "id": "Ru793IL_qS4W",
        "colab": {
          "base_uri": "https://localhost:8080/",
          "height": 763
        },
        "outputId": "c6734f8c-ccbd-4884-fb1c-f8d11fabceb1"
      },
      "source": [
        "df.dtypes"
      ],
      "execution_count": null,
      "outputs": [
        {
          "output_type": "execute_result",
          "data": {
            "text/plain": [
              "duration                         int64\n",
              "protocol_type                   object\n",
              "service                         object\n",
              "flag                            object\n",
              "src_bytes                        int64\n",
              "dst_bytes                        int64\n",
              "land                             int64\n",
              "wrong_fragment                   int64\n",
              "urgent                           int64\n",
              "hot                              int64\n",
              "num_failed_logins                int64\n",
              "logged_in                        int64\n",
              "num_compromised                  int64\n",
              "root_shell                       int64\n",
              "su_attempted                     int64\n",
              "num_root                         int64\n",
              "num_file_creations               int64\n",
              "num_shells                       int64\n",
              "num_access_files                 int64\n",
              "num_outbound_cmds                int64\n",
              "is_host_login                    int64\n",
              "is_guest_login                   int64\n",
              "count                            int64\n",
              "srv_count                        int64\n",
              "serror_rate                    float64\n",
              "srv_serror_rate                float64\n",
              "rerror_rate                    float64\n",
              "srv_rerror_rate                float64\n",
              "same_srv_rate                  float64\n",
              "diff_srv_rate                  float64\n",
              "srv_diff_host_rate             float64\n",
              "dst_host_count                   int64\n",
              "dst_host_srv_count               int64\n",
              "dst_host_same_srv_rate         float64\n",
              "dst_host_diff_srv_rate         float64\n",
              "dst_host_same_src_port_rate    float64\n",
              "dst_host_srv_diff_host_rate    float64\n",
              "dst_host_serror_rate           float64\n",
              "dst_host_srv_serror_rate       float64\n",
              "dst_host_rerror_rate           float64\n",
              "dst_host_srv_rerror_rate       float64\n",
              "outcome                         object\n",
              "dtype: object"
            ]
          },
          "metadata": {
            "tags": []
          },
          "execution_count": 23
        }
      ]
    },
    {
      "cell_type": "code",
      "metadata": {
        "id": "8wUffhsbqjK1",
        "colab": {
          "base_uri": "https://localhost:8080/",
          "height": 222
        },
        "outputId": "1e05c154-2682-4ebe-89d2-a3144457bf42"
      },
      "source": [
        "#\n",
        "df[0:5]"
      ],
      "execution_count": null,
      "outputs": [
        {
          "output_type": "execute_result",
          "data": {
            "text/html": [
              "<div>\n",
              "<style scoped>\n",
              "    .dataframe tbody tr th:only-of-type {\n",
              "        vertical-align: middle;\n",
              "    }\n",
              "\n",
              "    .dataframe tbody tr th {\n",
              "        vertical-align: top;\n",
              "    }\n",
              "\n",
              "    .dataframe thead th {\n",
              "        text-align: right;\n",
              "    }\n",
              "</style>\n",
              "<table border=\"1\" class=\"dataframe\">\n",
              "  <thead>\n",
              "    <tr style=\"text-align: right;\">\n",
              "      <th></th>\n",
              "      <th>duration</th>\n",
              "      <th>protocol_type</th>\n",
              "      <th>service</th>\n",
              "      <th>flag</th>\n",
              "      <th>src_bytes</th>\n",
              "      <th>dst_bytes</th>\n",
              "      <th>land</th>\n",
              "      <th>wrong_fragment</th>\n",
              "      <th>urgent</th>\n",
              "      <th>hot</th>\n",
              "      <th>num_failed_logins</th>\n",
              "      <th>logged_in</th>\n",
              "      <th>num_compromised</th>\n",
              "      <th>root_shell</th>\n",
              "      <th>su_attempted</th>\n",
              "      <th>num_root</th>\n",
              "      <th>num_file_creations</th>\n",
              "      <th>num_shells</th>\n",
              "      <th>num_access_files</th>\n",
              "      <th>num_outbound_cmds</th>\n",
              "      <th>is_host_login</th>\n",
              "      <th>is_guest_login</th>\n",
              "      <th>count</th>\n",
              "      <th>srv_count</th>\n",
              "      <th>serror_rate</th>\n",
              "      <th>srv_serror_rate</th>\n",
              "      <th>rerror_rate</th>\n",
              "      <th>srv_rerror_rate</th>\n",
              "      <th>same_srv_rate</th>\n",
              "      <th>diff_srv_rate</th>\n",
              "      <th>srv_diff_host_rate</th>\n",
              "      <th>dst_host_count</th>\n",
              "      <th>dst_host_srv_count</th>\n",
              "      <th>dst_host_same_srv_rate</th>\n",
              "      <th>dst_host_diff_srv_rate</th>\n",
              "      <th>dst_host_same_src_port_rate</th>\n",
              "      <th>dst_host_srv_diff_host_rate</th>\n",
              "      <th>dst_host_serror_rate</th>\n",
              "      <th>dst_host_srv_serror_rate</th>\n",
              "      <th>dst_host_rerror_rate</th>\n",
              "      <th>dst_host_srv_rerror_rate</th>\n",
              "      <th>outcome</th>\n",
              "    </tr>\n",
              "  </thead>\n",
              "  <tbody>\n",
              "    <tr>\n",
              "      <th>0</th>\n",
              "      <td>0</td>\n",
              "      <td>tcp</td>\n",
              "      <td>http</td>\n",
              "      <td>SF</td>\n",
              "      <td>239</td>\n",
              "      <td>486</td>\n",
              "      <td>0</td>\n",
              "      <td>0</td>\n",
              "      <td>0</td>\n",
              "      <td>0</td>\n",
              "      <td>0</td>\n",
              "      <td>1</td>\n",
              "      <td>0</td>\n",
              "      <td>0</td>\n",
              "      <td>0</td>\n",
              "      <td>0</td>\n",
              "      <td>0</td>\n",
              "      <td>0</td>\n",
              "      <td>0</td>\n",
              "      <td>0</td>\n",
              "      <td>0</td>\n",
              "      <td>0</td>\n",
              "      <td>8</td>\n",
              "      <td>8</td>\n",
              "      <td>0.0</td>\n",
              "      <td>0.0</td>\n",
              "      <td>0.0</td>\n",
              "      <td>0.0</td>\n",
              "      <td>1.0</td>\n",
              "      <td>0.0</td>\n",
              "      <td>0.0</td>\n",
              "      <td>19</td>\n",
              "      <td>19</td>\n",
              "      <td>1.0</td>\n",
              "      <td>0.0</td>\n",
              "      <td>0.05</td>\n",
              "      <td>0.0</td>\n",
              "      <td>0.0</td>\n",
              "      <td>0.0</td>\n",
              "      <td>0.0</td>\n",
              "      <td>0.0</td>\n",
              "      <td>normal.</td>\n",
              "    </tr>\n",
              "    <tr>\n",
              "      <th>1</th>\n",
              "      <td>0</td>\n",
              "      <td>tcp</td>\n",
              "      <td>http</td>\n",
              "      <td>SF</td>\n",
              "      <td>235</td>\n",
              "      <td>1337</td>\n",
              "      <td>0</td>\n",
              "      <td>0</td>\n",
              "      <td>0</td>\n",
              "      <td>0</td>\n",
              "      <td>0</td>\n",
              "      <td>1</td>\n",
              "      <td>0</td>\n",
              "      <td>0</td>\n",
              "      <td>0</td>\n",
              "      <td>0</td>\n",
              "      <td>0</td>\n",
              "      <td>0</td>\n",
              "      <td>0</td>\n",
              "      <td>0</td>\n",
              "      <td>0</td>\n",
              "      <td>0</td>\n",
              "      <td>8</td>\n",
              "      <td>8</td>\n",
              "      <td>0.0</td>\n",
              "      <td>0.0</td>\n",
              "      <td>0.0</td>\n",
              "      <td>0.0</td>\n",
              "      <td>1.0</td>\n",
              "      <td>0.0</td>\n",
              "      <td>0.0</td>\n",
              "      <td>29</td>\n",
              "      <td>29</td>\n",
              "      <td>1.0</td>\n",
              "      <td>0.0</td>\n",
              "      <td>0.03</td>\n",
              "      <td>0.0</td>\n",
              "      <td>0.0</td>\n",
              "      <td>0.0</td>\n",
              "      <td>0.0</td>\n",
              "      <td>0.0</td>\n",
              "      <td>normal.</td>\n",
              "    </tr>\n",
              "    <tr>\n",
              "      <th>2</th>\n",
              "      <td>0</td>\n",
              "      <td>tcp</td>\n",
              "      <td>http</td>\n",
              "      <td>SF</td>\n",
              "      <td>219</td>\n",
              "      <td>1337</td>\n",
              "      <td>0</td>\n",
              "      <td>0</td>\n",
              "      <td>0</td>\n",
              "      <td>0</td>\n",
              "      <td>0</td>\n",
              "      <td>1</td>\n",
              "      <td>0</td>\n",
              "      <td>0</td>\n",
              "      <td>0</td>\n",
              "      <td>0</td>\n",
              "      <td>0</td>\n",
              "      <td>0</td>\n",
              "      <td>0</td>\n",
              "      <td>0</td>\n",
              "      <td>0</td>\n",
              "      <td>0</td>\n",
              "      <td>6</td>\n",
              "      <td>6</td>\n",
              "      <td>0.0</td>\n",
              "      <td>0.0</td>\n",
              "      <td>0.0</td>\n",
              "      <td>0.0</td>\n",
              "      <td>1.0</td>\n",
              "      <td>0.0</td>\n",
              "      <td>0.0</td>\n",
              "      <td>39</td>\n",
              "      <td>39</td>\n",
              "      <td>1.0</td>\n",
              "      <td>0.0</td>\n",
              "      <td>0.03</td>\n",
              "      <td>0.0</td>\n",
              "      <td>0.0</td>\n",
              "      <td>0.0</td>\n",
              "      <td>0.0</td>\n",
              "      <td>0.0</td>\n",
              "      <td>normal.</td>\n",
              "    </tr>\n",
              "    <tr>\n",
              "      <th>3</th>\n",
              "      <td>0</td>\n",
              "      <td>tcp</td>\n",
              "      <td>http</td>\n",
              "      <td>SF</td>\n",
              "      <td>217</td>\n",
              "      <td>2032</td>\n",
              "      <td>0</td>\n",
              "      <td>0</td>\n",
              "      <td>0</td>\n",
              "      <td>0</td>\n",
              "      <td>0</td>\n",
              "      <td>1</td>\n",
              "      <td>0</td>\n",
              "      <td>0</td>\n",
              "      <td>0</td>\n",
              "      <td>0</td>\n",
              "      <td>0</td>\n",
              "      <td>0</td>\n",
              "      <td>0</td>\n",
              "      <td>0</td>\n",
              "      <td>0</td>\n",
              "      <td>0</td>\n",
              "      <td>6</td>\n",
              "      <td>6</td>\n",
              "      <td>0.0</td>\n",
              "      <td>0.0</td>\n",
              "      <td>0.0</td>\n",
              "      <td>0.0</td>\n",
              "      <td>1.0</td>\n",
              "      <td>0.0</td>\n",
              "      <td>0.0</td>\n",
              "      <td>49</td>\n",
              "      <td>49</td>\n",
              "      <td>1.0</td>\n",
              "      <td>0.0</td>\n",
              "      <td>0.02</td>\n",
              "      <td>0.0</td>\n",
              "      <td>0.0</td>\n",
              "      <td>0.0</td>\n",
              "      <td>0.0</td>\n",
              "      <td>0.0</td>\n",
              "      <td>normal.</td>\n",
              "    </tr>\n",
              "    <tr>\n",
              "      <th>4</th>\n",
              "      <td>0</td>\n",
              "      <td>tcp</td>\n",
              "      <td>http</td>\n",
              "      <td>SF</td>\n",
              "      <td>217</td>\n",
              "      <td>2032</td>\n",
              "      <td>0</td>\n",
              "      <td>0</td>\n",
              "      <td>0</td>\n",
              "      <td>0</td>\n",
              "      <td>0</td>\n",
              "      <td>1</td>\n",
              "      <td>0</td>\n",
              "      <td>0</td>\n",
              "      <td>0</td>\n",
              "      <td>0</td>\n",
              "      <td>0</td>\n",
              "      <td>0</td>\n",
              "      <td>0</td>\n",
              "      <td>0</td>\n",
              "      <td>0</td>\n",
              "      <td>0</td>\n",
              "      <td>6</td>\n",
              "      <td>6</td>\n",
              "      <td>0.0</td>\n",
              "      <td>0.0</td>\n",
              "      <td>0.0</td>\n",
              "      <td>0.0</td>\n",
              "      <td>1.0</td>\n",
              "      <td>0.0</td>\n",
              "      <td>0.0</td>\n",
              "      <td>59</td>\n",
              "      <td>59</td>\n",
              "      <td>1.0</td>\n",
              "      <td>0.0</td>\n",
              "      <td>0.02</td>\n",
              "      <td>0.0</td>\n",
              "      <td>0.0</td>\n",
              "      <td>0.0</td>\n",
              "      <td>0.0</td>\n",
              "      <td>0.0</td>\n",
              "      <td>normal.</td>\n",
              "    </tr>\n",
              "  </tbody>\n",
              "</table>\n",
              "</div>"
            ],
            "text/plain": [
              "   duration protocol_type  ... dst_host_srv_rerror_rate  outcome\n",
              "0         0           tcp  ...                      0.0  normal.\n",
              "1         0           tcp  ...                      0.0  normal.\n",
              "2         0           tcp  ...                      0.0  normal.\n",
              "3         0           tcp  ...                      0.0  normal.\n",
              "4         0           tcp  ...                      0.0  normal.\n",
              "\n",
              "[5 rows x 42 columns]"
            ]
          },
          "metadata": {
            "tags": []
          },
          "execution_count": 24
        }
      ]
    },
    {
      "cell_type": "code",
      "metadata": {
        "id": "UOGpDyfEqpIs",
        "colab": {
          "base_uri": "https://localhost:8080/",
          "height": 121
        },
        "outputId": "2266948f-ed86-4eed-cf52-fea1dfea2622"
      },
      "source": [
        "print(df.protocol_type.unique())\n",
        "df.groupby(df.protocol_type)['protocol_type'].count()\n"
      ],
      "execution_count": null,
      "outputs": [
        {
          "output_type": "stream",
          "text": [
            "['tcp' 'udp' 'icmp']\n"
          ],
          "name": "stdout"
        },
        {
          "output_type": "execute_result",
          "data": {
            "text/plain": [
              "protocol_type\n",
              "icmp    283602\n",
              "tcp     190064\n",
              "udp      20354\n",
              "Name: protocol_type, dtype: int64"
            ]
          },
          "metadata": {
            "tags": []
          },
          "execution_count": 25
        }
      ]
    },
    {
      "cell_type": "code",
      "metadata": {
        "id": "rZEvTOOGrSba",
        "colab": {
          "base_uri": "https://localhost:8080/",
          "height": 297
        },
        "outputId": "ce042fb8-48d5-4a2b-e95e-b371436725ce"
      },
      "source": [
        "sns.countplot(df.protocol_type)"
      ],
      "execution_count": null,
      "outputs": [
        {
          "output_type": "execute_result",
          "data": {
            "text/plain": [
              "<matplotlib.axes._subplots.AxesSubplot at 0x7fae2a0affd0>"
            ]
          },
          "metadata": {
            "tags": []
          },
          "execution_count": 26
        },
        {
          "output_type": "display_data",
          "data": {
            "image/png": "[encoded data removed]",
            "text/plain": [
              "<Figure size 432x288 with 1 Axes>"
            ]
          },
          "metadata": {
            "tags": [],
            "needs_background": "light"
          }
        }
      ]
    },
    {
      "cell_type": "code",
      "metadata": {
        "id": "bssE2AH_rXBH",
        "colab": {
          "base_uri": "https://localhost:8080/",
          "height": 297
        },
        "outputId": "5198b215-196a-475e-a1b6-03941d51eb94"
      },
      "source": [
        "sns.countplot(df.service)"
      ],
      "execution_count": null,
      "outputs": [
        {
          "output_type": "execute_result",
          "data": {
            "text/plain": [
              "<matplotlib.axes._subplots.AxesSubplot at 0x7fae29b65dd8>"
            ]
          },
          "metadata": {
            "tags": []
          },
          "execution_count": 27
        },
        {
          "output_type": "display_data",
          "data": {
            "image/png": "[encoded data removed]",
            "text/plain": [
              "<Figure size 432x288 with 1 Axes>"
            ]
          },
          "metadata": {
            "tags": [],
            "needs_background": "light"
          }
        }
      ]
    },
    {
      "cell_type": "code",
      "metadata": {
        "id": "SJuyMKFsrb29",
        "colab": {
          "base_uri": "https://localhost:8080/",
          "height": 297
        },
        "outputId": "8173e3d7-d28b-460b-b005-5cc366889a1e"
      },
      "source": [
        "sns.countplot(df.flag)"
      ],
      "execution_count": null,
      "outputs": [
        {
          "output_type": "execute_result",
          "data": {
            "text/plain": [
              "<matplotlib.axes._subplots.AxesSubplot at 0x7fae29928c18>"
            ]
          },
          "metadata": {
            "tags": []
          },
          "execution_count": 28
        },
        {
          "output_type": "display_data",
          "data": {
            "image/png": "[encoded data removed]",
            "text/plain": [
              "<Figure size 432x288 with 1 Axes>"
            ]
          },
          "metadata": {
            "tags": [],
            "needs_background": "light"
          }
        }
      ]
    },
    {
      "cell_type": "code",
      "metadata": {
        "id": "vUiWmPnSrijH",
        "colab": {
          "base_uri": "https://localhost:8080/",
          "height": 35
        },
        "outputId": "544f1ba2-893c-4c3c-c91c-1d159bfffc79"
      },
      "source": [
        "len(df.service.unique())"
      ],
      "execution_count": null,
      "outputs": [
        {
          "output_type": "execute_result",
          "data": {
            "text/plain": [
              "66"
            ]
          },
          "metadata": {
            "tags": []
          },
          "execution_count": 29
        }
      ]
    },
    {
      "cell_type": "code",
      "metadata": {
        "id": "H-hQyUpBsZZJ",
        "colab": {
          "base_uri": "https://localhost:8080/",
          "height": 763
        },
        "outputId": "758877f5-e821-4de0-c39f-b2bd699acac8"
      },
      "source": [
        "df.dtypes"
      ],
      "execution_count": null,
      "outputs": [
        {
          "output_type": "execute_result",
          "data": {
            "text/plain": [
              "duration                         int64\n",
              "protocol_type                   object\n",
              "service                         object\n",
              "flag                            object\n",
              "src_bytes                        int64\n",
              "dst_bytes                        int64\n",
              "land                             int64\n",
              "wrong_fragment                   int64\n",
              "urgent                           int64\n",
              "hot                              int64\n",
              "num_failed_logins                int64\n",
              "logged_in                        int64\n",
              "num_compromised                  int64\n",
              "root_shell                       int64\n",
              "su_attempted                     int64\n",
              "num_root                         int64\n",
              "num_file_creations               int64\n",
              "num_shells                       int64\n",
              "num_access_files                 int64\n",
              "num_outbound_cmds                int64\n",
              "is_host_login                    int64\n",
              "is_guest_login                   int64\n",
              "count                            int64\n",
              "srv_count                        int64\n",
              "serror_rate                    float64\n",
              "srv_serror_rate                float64\n",
              "rerror_rate                    float64\n",
              "srv_rerror_rate                float64\n",
              "same_srv_rate                  float64\n",
              "diff_srv_rate                  float64\n",
              "srv_diff_host_rate             float64\n",
              "dst_host_count                   int64\n",
              "dst_host_srv_count               int64\n",
              "dst_host_same_srv_rate         float64\n",
              "dst_host_diff_srv_rate         float64\n",
              "dst_host_same_src_port_rate    float64\n",
              "dst_host_srv_diff_host_rate    float64\n",
              "dst_host_serror_rate           float64\n",
              "dst_host_srv_serror_rate       float64\n",
              "dst_host_rerror_rate           float64\n",
              "dst_host_srv_rerror_rate       float64\n",
              "outcome                         object\n",
              "dtype: object"
            ]
          },
          "metadata": {
            "tags": []
          },
          "execution_count": 30
        }
      ]
    },
    {
      "cell_type": "code",
      "metadata": {
        "id": "PtaFlsfQrrM2",
        "colab": {
          "base_uri": "https://localhost:8080/",
          "height": 130
        },
        "outputId": "1c038d33-d947-4e0a-f3de-05372fc73164"
      },
      "source": [
        "df[0:2]"
      ],
      "execution_count": null,
      "outputs": [
        {
          "output_type": "execute_result",
          "data": {
            "text/html": [
              "<div>\n",
              "<style scoped>\n",
              "    .dataframe tbody tr th:only-of-type {\n",
              "        vertical-align: middle;\n",
              "    }\n",
              "\n",
              "    .dataframe tbody tr th {\n",
              "        vertical-align: top;\n",
              "    }\n",
              "\n",
              "    .dataframe thead th {\n",
              "        text-align: right;\n",
              "    }\n",
              "</style>\n",
              "<table border=\"1\" class=\"dataframe\">\n",
              "  <thead>\n",
              "    <tr style=\"text-align: right;\">\n",
              "      <th></th>\n",
              "      <th>duration</th>\n",
              "      <th>protocol_type</th>\n",
              "      <th>service</th>\n",
              "      <th>flag</th>\n",
              "      <th>src_bytes</th>\n",
              "      <th>dst_bytes</th>\n",
              "      <th>land</th>\n",
              "      <th>wrong_fragment</th>\n",
              "      <th>urgent</th>\n",
              "      <th>hot</th>\n",
              "      <th>num_failed_logins</th>\n",
              "      <th>logged_in</th>\n",
              "      <th>num_compromised</th>\n",
              "      <th>root_shell</th>\n",
              "      <th>su_attempted</th>\n",
              "      <th>num_root</th>\n",
              "      <th>num_file_creations</th>\n",
              "      <th>num_shells</th>\n",
              "      <th>num_access_files</th>\n",
              "      <th>num_outbound_cmds</th>\n",
              "      <th>is_host_login</th>\n",
              "      <th>is_guest_login</th>\n",
              "      <th>count</th>\n",
              "      <th>srv_count</th>\n",
              "      <th>serror_rate</th>\n",
              "      <th>srv_serror_rate</th>\n",
              "      <th>rerror_rate</th>\n",
              "      <th>srv_rerror_rate</th>\n",
              "      <th>same_srv_rate</th>\n",
              "      <th>diff_srv_rate</th>\n",
              "      <th>srv_diff_host_rate</th>\n",
              "      <th>dst_host_count</th>\n",
              "      <th>dst_host_srv_count</th>\n",
              "      <th>dst_host_same_srv_rate</th>\n",
              "      <th>dst_host_diff_srv_rate</th>\n",
              "      <th>dst_host_same_src_port_rate</th>\n",
              "      <th>dst_host_srv_diff_host_rate</th>\n",
              "      <th>dst_host_serror_rate</th>\n",
              "      <th>dst_host_srv_serror_rate</th>\n",
              "      <th>dst_host_rerror_rate</th>\n",
              "      <th>dst_host_srv_rerror_rate</th>\n",
              "      <th>outcome</th>\n",
              "    </tr>\n",
              "  </thead>\n",
              "  <tbody>\n",
              "    <tr>\n",
              "      <th>0</th>\n",
              "      <td>0</td>\n",
              "      <td>tcp</td>\n",
              "      <td>http</td>\n",
              "      <td>SF</td>\n",
              "      <td>239</td>\n",
              "      <td>486</td>\n",
              "      <td>0</td>\n",
              "      <td>0</td>\n",
              "      <td>0</td>\n",
              "      <td>0</td>\n",
              "      <td>0</td>\n",
              "      <td>1</td>\n",
              "      <td>0</td>\n",
              "      <td>0</td>\n",
              "      <td>0</td>\n",
              "      <td>0</td>\n",
              "      <td>0</td>\n",
              "      <td>0</td>\n",
              "      <td>0</td>\n",
              "      <td>0</td>\n",
              "      <td>0</td>\n",
              "      <td>0</td>\n",
              "      <td>8</td>\n",
              "      <td>8</td>\n",
              "      <td>0.0</td>\n",
              "      <td>0.0</td>\n",
              "      <td>0.0</td>\n",
              "      <td>0.0</td>\n",
              "      <td>1.0</td>\n",
              "      <td>0.0</td>\n",
              "      <td>0.0</td>\n",
              "      <td>19</td>\n",
              "      <td>19</td>\n",
              "      <td>1.0</td>\n",
              "      <td>0.0</td>\n",
              "      <td>0.05</td>\n",
              "      <td>0.0</td>\n",
              "      <td>0.0</td>\n",
              "      <td>0.0</td>\n",
              "      <td>0.0</td>\n",
              "      <td>0.0</td>\n",
              "      <td>normal.</td>\n",
              "    </tr>\n",
              "    <tr>\n",
              "      <th>1</th>\n",
              "      <td>0</td>\n",
              "      <td>tcp</td>\n",
              "      <td>http</td>\n",
              "      <td>SF</td>\n",
              "      <td>235</td>\n",
              "      <td>1337</td>\n",
              "      <td>0</td>\n",
              "      <td>0</td>\n",
              "      <td>0</td>\n",
              "      <td>0</td>\n",
              "      <td>0</td>\n",
              "      <td>1</td>\n",
              "      <td>0</td>\n",
              "      <td>0</td>\n",
              "      <td>0</td>\n",
              "      <td>0</td>\n",
              "      <td>0</td>\n",
              "      <td>0</td>\n",
              "      <td>0</td>\n",
              "      <td>0</td>\n",
              "      <td>0</td>\n",
              "      <td>0</td>\n",
              "      <td>8</td>\n",
              "      <td>8</td>\n",
              "      <td>0.0</td>\n",
              "      <td>0.0</td>\n",
              "      <td>0.0</td>\n",
              "      <td>0.0</td>\n",
              "      <td>1.0</td>\n",
              "      <td>0.0</td>\n",
              "      <td>0.0</td>\n",
              "      <td>29</td>\n",
              "      <td>29</td>\n",
              "      <td>1.0</td>\n",
              "      <td>0.0</td>\n",
              "      <td>0.03</td>\n",
              "      <td>0.0</td>\n",
              "      <td>0.0</td>\n",
              "      <td>0.0</td>\n",
              "      <td>0.0</td>\n",
              "      <td>0.0</td>\n",
              "      <td>normal.</td>\n",
              "    </tr>\n",
              "  </tbody>\n",
              "</table>\n",
              "</div>"
            ],
            "text/plain": [
              "   duration protocol_type  ... dst_host_srv_rerror_rate  outcome\n",
              "0         0           tcp  ...                      0.0  normal.\n",
              "1         0           tcp  ...                      0.0  normal.\n",
              "\n",
              "[2 rows x 42 columns]"
            ]
          },
          "metadata": {
            "tags": []
          },
          "execution_count": 31
        }
      ]
    },
    {
      "cell_type": "code",
      "metadata": {
        "id": "quMbYshnrxiY"
      },
      "source": [
        "#Label Encoding create classes and assign no from 0 to num_classes-1"
      ],
      "execution_count": null,
      "outputs": []
    },
    {
      "cell_type": "code",
      "metadata": {
        "id": "Ya0cn4f-ipk6"
      },
      "source": [
        "from sklearn.preprocessing import LabelEncoder\n",
        "le=LabelEncoder()\n",
        "df['protocol_type']=le.fit_transform(df['protocol_type'])\n",
        "df['service']=le.fit_transform(df['service'])\n",
        "df['flag']=le.fit_transform(df['flag'])\n",
        "df['outcome']=le.fit_transform(df['outcome'])\n"
      ],
      "execution_count": null,
      "outputs": []
    },
    {
      "cell_type": "code",
      "metadata": {
        "id": "4SGQVMxQjyiE",
        "colab": {
          "base_uri": "https://localhost:8080/",
          "height": 35
        },
        "outputId": "a6f1d2ec-5536-4cbd-dbee-bc5b4dde084e"
      },
      "source": [
        "df.outcome.unique()"
      ],
      "execution_count": null,
      "outputs": [
        {
          "output_type": "execute_result",
          "data": {
            "text/plain": [
              "array([1, 4, 0, 3, 2])"
            ]
          },
          "metadata": {
            "tags": []
          },
          "execution_count": 34
        }
      ]
    },
    {
      "cell_type": "code",
      "metadata": {
        "id": "7h126lm0kVr3"
      },
      "source": [
        "#Data Partition 80 % train (to build the model) and 20% test (validation)\n",
        "#y=f(X)\n",
        "#X-feature-vector (1-41)\n",
        "#y- Class (42) \n",
        "X=df.iloc[:,:-1] # Feature Vector\n",
        "y=df.iloc[:,-1] # Class Variable"
      ],
      "execution_count": null,
      "outputs": []
    },
    {
      "cell_type": "code",
      "metadata": {
        "id": "9rqiYMa7lVnV",
        "colab": {
          "base_uri": "https://localhost:8080/",
          "height": 52
        },
        "outputId": "24240f6d-3629-498b-d716-f2af972698f3"
      },
      "source": [
        "# Check the dimension\n",
        "print(X.shape)\n",
        "print(y.shape)"
      ],
      "execution_count": null,
      "outputs": [
        {
          "output_type": "stream",
          "text": [
            "(494020, 41)\n",
            "(494020,)\n"
          ],
          "name": "stdout"
        }
      ]
    },
    {
      "cell_type": "code",
      "metadata": {
        "id": "kVKQ-DiClmgO"
      },
      "source": [
        "#Spilt into two X  (X_train,y_train), (X_test,y_test)\n",
        "from sklearn.model_selection import train_test_split\n",
        "X_train,X_test,y_train,y_test=train_test_split(X,y,test_size=0.2, random_state=0)"
      ],
      "execution_count": null,
      "outputs": []
    },
    {
      "cell_type": "code",
      "metadata": {
        "id": "Mr-PpkLcmJCj",
        "colab": {
          "base_uri": "https://localhost:8080/",
          "height": 87
        },
        "outputId": "87b6b60a-e62a-4093-d13a-2412a26e53c2"
      },
      "source": [
        "print(X_train.shape)\n",
        "print(X_test.shape)\n",
        "print(y_train.shape)\n",
        "print(y_test.shape)"
      ],
      "execution_count": null,
      "outputs": [
        {
          "output_type": "stream",
          "text": [
            "(395216, 41)\n",
            "(98804, 41)\n",
            "(395216,)\n",
            "(98804,)\n"
          ],
          "name": "stdout"
        }
      ]
    },
    {
      "cell_type": "code",
      "metadata": {
        "id": "hWX7VviFTH16"
      },
      "source": [
        "# Use confusion matrix (Tp,Tn, Fp,Fn) and ROC to evaluate the ML model."
      ],
      "execution_count": null,
      "outputs": []
    },
    {
      "cell_type": "code",
      "metadata": {
        "id": "Zu8CzFujTKM3"
      },
      "source": [
        "#Tabulate the results and compare :\n",
        "# Sr. No . | Name of classifiers | Training Time/Prediction Time | Accuracy |Miss-classification Rate | Precision | Recall |  F1 Measure | Kappa Value | AUC | ROC |"
      ],
      "execution_count": null,
      "outputs": []
    },
    {
      "cell_type": "code",
      "metadata": {
        "id": "7TcAWKjsqIz_"
      },
      "source": [
        "# Supervised ML Classifiers\n",
        "#[1]LogisticRegression\n",
        "#[2]LDA\n",
        "#[3]KNN\n",
        "#[4]Decision Tree (DT)\n",
        "#[5]Random Forest \n",
        "#[6] Naive Bayes "
      ],
      "execution_count": null,
      "outputs": []
    },
    {
      "cell_type": "code",
      "metadata": {
        "id": "xtCbg93mc45U"
      },
      "source": [
        "# To build the classifier\n",
        "from sklearn.linear_model import LogisticRegression\n",
        "clf=LogisticRegression()"
      ],
      "execution_count": null,
      "outputs": []
    },
    {
      "cell_type": "code",
      "metadata": {
        "id": "4rcbK8cJtX91",
        "colab": {
          "base_uri": "https://localhost:8080/",
          "height": 173
        },
        "outputId": "c31af554-2390-4543-9123-92b742726d03"
      },
      "source": [
        "#Train the model\n",
        "import time\n",
        "st=time.time()\n",
        "clf.fit(X_train,y_train)\n",
        "et=time.time()\n",
        "print(\"Training Time:\",et-st)"
      ],
      "execution_count": null,
      "outputs": [
        {
          "output_type": "stream",
          "text": [
            "Training Time: 58.64835858345032\n"
          ],
          "name": "stdout"
        },
        {
          "output_type": "stream",
          "text": [
            "/usr/local/lib/python3.6/dist-packages/sklearn/linear_model/_logistic.py:940: ConvergenceWarning: lbfgs failed to converge (status=1):\n",
            "STOP: TOTAL NO. of ITERATIONS REACHED LIMIT.\n",
            "\n",
            "Increase the number of iterations (max_iter) or scale the data as shown in:\n",
            "    https://scikit-learn.org/stable/modules/preprocessing.html\n",
            "Please also refer to the documentation for alternative solver options:\n",
            "    https://scikit-learn.org/stable/modules/linear_model.html#logistic-regression\n",
            "  extra_warning_msg=_LOGISTIC_SOLVER_CONVERGENCE_MSG)\n"
          ],
          "name": "stderr"
        }
      ]
    },
    {
      "cell_type": "code",
      "metadata": {
        "id": "c_i8fSxauJ_g",
        "colab": {
          "base_uri": "https://localhost:8080/",
          "height": 35
        },
        "outputId": "64632640-e3b8-4e2b-da19-6beacd3108e7"
      },
      "source": [
        "#Model Prediction\n",
        "st=time.time()\n",
        "ypred=clf.predict(X_test)\n",
        "et=time.time()\n",
        "print(\"prediction Time:\",et-st)"
      ],
      "execution_count": null,
      "outputs": [
        {
          "output_type": "stream",
          "text": [
            "prediction Time: 0.03470301628112793\n"
          ],
          "name": "stdout"
        }
      ]
    },
    {
      "cell_type": "code",
      "metadata": {
        "id": "D6NH4HghufE1",
        "colab": {
          "base_uri": "https://localhost:8080/",
          "height": 69
        },
        "outputId": "1c1bc501-b1fd-4515-b9ec-79e4bdfbb90e"
      },
      "source": [
        "# Accuracy Score\n",
        "st=time.time()\n",
        "score=clf.score(X_test,y_test)\n",
        "et=time.time()\n",
        "print(\"prediction Time:\",et-st)\n",
        "print(score)\n",
        "#Missclassification\n",
        "mc=1-score\n",
        "print(mc)"
      ],
      "execution_count": null,
      "outputs": [
        {
          "output_type": "stream",
          "text": [
            "prediction Time: 0.0458981990814209\n",
            "0.980982551313712\n",
            "0.019017448686287963\n"
          ],
          "name": "stdout"
        }
      ]
    },
    {
      "cell_type": "code",
      "metadata": {
        "id": "y0jYNfQPuvjo",
        "colab": {
          "base_uri": "https://localhost:8080/",
          "height": 104
        },
        "outputId": "b910123b-5b3f-4859-b2e0-404d4136f0be"
      },
      "source": [
        "#Create confusion matrix\n",
        "from sklearn.metrics import confusion_matrix\n",
        "cm=confusion_matrix(ypred,y_test)\n",
        "print(cm)"
      ],
      "execution_count": null,
      "outputs": [
        {
          "output_type": "stream",
          "text": [
            "[[77648   307   336     9     0]\n",
            " [  535 19274   484   191     8]\n",
            " [    0     2     1     6     0]\n",
            " [    0     1     0     2     0]\n",
            " [    0     0     0     0     0]]\n"
          ],
          "name": "stdout"
        }
      ]
    },
    {
      "cell_type": "code",
      "metadata": {
        "id": "WM2KnFEtvIgI",
        "colab": {
          "base_uri": "https://localhost:8080/",
          "height": 191
        },
        "outputId": "39063914-f533-41c1-c493-068eca2cf4c6"
      },
      "source": [
        "#Probability values\n",
        "ypred2=clf.predict_proba(X_test)\n",
        "ypred2[0:5]"
      ],
      "execution_count": null,
      "outputs": [
        {
          "output_type": "execute_result",
          "data": {
            "text/plain": [
              "array([[6.78568290e-02, 9.19149501e-01, 4.89019658e-03, 8.10217341e-03,\n",
              "        1.29996533e-06],\n",
              "       [2.60071473e-02, 9.73755048e-01, 4.27783033e-05, 1.78508647e-04,\n",
              "        1.65176408e-05],\n",
              "       [9.99997083e-01, 2.91488456e-06, 2.26006562e-09, 2.47988485e-10,\n",
              "        2.94546118e-11],\n",
              "       [9.92661298e-01, 6.37302449e-03, 3.42012968e-04, 1.31603713e-04,\n",
              "        4.92060340e-04],\n",
              "       [9.90433037e-01, 8.22521318e-03, 4.83798225e-04, 1.91383661e-04,\n",
              "        6.66568276e-04]])"
            ]
          },
          "metadata": {
            "tags": []
          },
          "execution_count": 50
        }
      ]
    },
    {
      "cell_type": "code",
      "metadata": {
        "id": "OsM--M-tMdmu",
        "colab": {
          "base_uri": "https://localhost:8080/",
          "height": 141
        },
        "outputId": "359d5f99-f4c8-46fd-d7a7-f30911514b4b"
      },
      "source": [
        "#Recall score\n",
        "from sklearn.metrics import recall_score\n",
        "print(recall_score(y_test,ypred,average='weighted'))\n",
        "#PRECISION score\n",
        "from sklearn.metrics import precision_score\n",
        "print(precision_score(y_test,ypred,average='weighted'))\n",
        "#F1 Score\n",
        "from sklearn.metrics import f1_score\n",
        "print(f1_score(y_test,ypred,average='weighted'))\n",
        "#ROC AUC score\n",
        "from sklearn.metrics import roc_auc_score\n",
        "print(roc_auc_score(y_test,ypred2,average='weighted',multi_class='ovr'))"
      ],
      "execution_count": null,
      "outputs": [
        {
          "output_type": "stream",
          "text": [
            "0.980982551313712\n",
            "0.9734609195058377\n",
            "0.9760047680606279\n",
            "0.9938311750712768\n"
          ],
          "name": "stdout"
        },
        {
          "output_type": "stream",
          "text": [
            "/usr/local/lib/python3.6/dist-packages/sklearn/metrics/_classification.py:1272: UndefinedMetricWarning: Precision is ill-defined and being set to 0.0 in labels with no predicted samples. Use `zero_division` parameter to control this behavior.\n",
            "  _warn_prf(average, modifier, msg_start, len(result))\n"
          ],
          "name": "stderr"
        }
      ]
    },
    {
      "cell_type": "code",
      "metadata": {
        "id": "M8MwRST9MlkH",
        "colab": {
          "base_uri": "https://localhost:8080/",
          "height": 265
        },
        "outputId": "a069133b-5ee8-4453-ee24-c2d92b7409fa"
      },
      "source": [
        "import matplotlib.pyplot as plt\n",
        "plt.scatter(y_test,ypred)\n",
        "plt.show()"
      ],
      "execution_count": null,
      "outputs": [
        {
          "output_type": "display_data",
          "data": {
            "image/png": "[encoded data removed]",
            "text/plain": [
              "<Figure size 432x288 with 1 Axes>"
            ]
          },
          "metadata": {
            "tags": [],
            "needs_background": "light"
          }
        }
      ]
    },
    {
      "cell_type": "code",
      "metadata": {
        "id": "1qHIw5rIMpyC",
        "colab": {
          "base_uri": "https://localhost:8080/",
          "height": 35
        },
        "outputId": "9e83f6f8-02f2-44cd-f6e6-fd3174a42a21"
      },
      "source": [
        "#LDA\n",
        "\n",
        "from sklearn.discriminant_analysis import LinearDiscriminantAnalysis\n",
        "clf2=LinearDiscriminantAnalysis()\n",
        "import time\n",
        "st=time.time()\n",
        "clf2.fit(X_train,y_train)\n",
        "et=time.time()\n",
        "print(\"Training Time: \",et-st)"
      ],
      "execution_count": null,
      "outputs": [
        {
          "output_type": "stream",
          "text": [
            "Training Time:  3.2751641273498535\n"
          ],
          "name": "stdout"
        }
      ]
    },
    {
      "cell_type": "code",
      "metadata": {
        "id": "cL6ZIFoZMu6S",
        "colab": {
          "base_uri": "https://localhost:8080/",
          "height": 69
        },
        "outputId": "456af22b-9cf4-4608-83eb-79ae3e051b66"
      },
      "source": [
        "#Accuracy\n",
        "print(clf2.score(X_test,y_test))\n",
        "st=time.time()\n",
        "ypred=clf2.predict(X_test)\n",
        "et=time.time()\n",
        "print(\"Prediction Time: \",et-st)\n",
        "ypred2=clf.predict_proba(X_test)\n",
        "#Missclassification\n",
        "mc=1-score\n",
        "print(mc)"
      ],
      "execution_count": null,
      "outputs": [
        {
          "output_type": "stream",
          "text": [
            "0.9915590461924618\n",
            "Prediction Time:  0.03682088851928711\n",
            "0.019017448686287963\n"
          ],
          "name": "stdout"
        }
      ]
    },
    {
      "cell_type": "code",
      "metadata": {
        "id": "ZhLwLu7uM37b",
        "colab": {
          "base_uri": "https://localhost:8080/",
          "height": 87
        },
        "outputId": "ef070648-221b-448e-e8f0-afb976a7e77d"
      },
      "source": [
        "#Recall score\n",
        "from sklearn.metrics import recall_score\n",
        "print(recall_score(y_test,ypred,average='weighted'))\n",
        "#PRECISION score\n",
        "from sklearn.metrics import precision_score\n",
        "print(precision_score(y_test,ypred,average='weighted'))\n",
        "#F1 Score\n",
        "from sklearn.metrics import f1_score\n",
        "print(f1_score(y_test,ypred,average='weighted'))\n",
        "#ROC AUC score\n",
        "from sklearn.metrics import roc_auc_score\n",
        "print(roc_auc_score(y_test,ypred2,average='weighted',multi_class='ovr'))"
      ],
      "execution_count": null,
      "outputs": [
        {
          "output_type": "stream",
          "text": [
            "0.9915590461924618\n",
            "0.9919287652967451\n",
            "0.9916858993768256\n",
            "0.9938311750712768\n"
          ],
          "name": "stdout"
        }
      ]
    },
    {
      "cell_type": "code",
      "metadata": {
        "id": "X4JXHRd7M6U-",
        "colab": {
          "base_uri": "https://localhost:8080/",
          "height": 104
        },
        "outputId": "8f764c40-01c8-4af7-af55-56060acb8f00"
      },
      "source": [
        "#Confusion matrix\n",
        "from sklearn.metrics import confusion_matrix\n",
        "cm=confusion_matrix(ypred,y_test)\n",
        "print(cm)"
      ],
      "execution_count": null,
      "outputs": [
        {
          "output_type": "stream",
          "text": [
            "[[77654    35    18     1     0]\n",
            " [  482 19369    35    29     3]\n",
            " [   45   116   768     1     0]\n",
            " [    2    62     0   175     1]\n",
            " [    0     2     0     2     4]]\n"
          ],
          "name": "stdout"
        }
      ]
    },
    {
      "cell_type": "code",
      "metadata": {
        "id": "3CRqQpWpNDqT",
        "colab": {
          "base_uri": "https://localhost:8080/",
          "height": 265
        },
        "outputId": "fb4bc656-5b22-4552-b108-6ebb9c2ec0a4"
      },
      "source": [
        "import matplotlib.pyplot as plt\n",
        "plt.scatter(y_test,ypred)\n",
        "plt.show()"
      ],
      "execution_count": null,
      "outputs": [
        {
          "output_type": "display_data",
          "data": {
            "image/png": "[encoded data removed]",
            "text/plain": [
              "<Figure size 432x288 with 1 Axes>"
            ]
          },
          "metadata": {
            "tags": [],
            "needs_background": "light"
          }
        }
      ]
    },
    {
      "cell_type": "code",
      "metadata": {
        "id": "BbLnitBdNGd5",
        "colab": {
          "base_uri": "https://localhost:8080/",
          "height": 35
        },
        "outputId": "e1cb1276-5a4f-4880-f8d7-0db23c013edb"
      },
      "source": [
        "#KNN\n",
        "\n",
        "from sklearn.neighbors import KNeighborsClassifier\n",
        "clf2=KNeighborsClassifier()\n",
        "import time\n",
        "st=time.time()\n",
        "clf2.fit(X_train,y_train)\n",
        "et=time.time()\n",
        "print(\"Training Time: \",et-st)"
      ],
      "execution_count": null,
      "outputs": [
        {
          "output_type": "stream",
          "text": [
            "Training Time:  124.59625959396362\n"
          ],
          "name": "stdout"
        }
      ]
    },
    {
      "cell_type": "code",
      "metadata": {
        "id": "7erAdInJNss-",
        "colab": {
          "base_uri": "https://localhost:8080/",
          "height": 69
        },
        "outputId": "c279810f-65a2-4cfc-fdd5-768ca1f78f54"
      },
      "source": [
        "#Accuracy\n",
        "print(clf2.score(X_test,y_test))\n",
        "st=time.time()\n",
        "ypred=clf2.predict(X_test)\n",
        "et=time.time()\n",
        "print(\"Prediction Time: \",et-st)\n",
        "ypred2=clf.predict_proba(X_test)\n",
        "#Missclassification\n",
        "mc=1-score\n",
        "print(mc)"
      ],
      "execution_count": null,
      "outputs": [
        {
          "output_type": "stream",
          "text": [
            "0.9989980162746448\n",
            "Prediction Time:  775.3274972438812\n",
            "0.019017448686287963\n"
          ],
          "name": "stdout"
        }
      ]
    },
    {
      "cell_type": "code",
      "metadata": {
        "id": "KsZndp-IT8w9",
        "colab": {
          "base_uri": "https://localhost:8080/",
          "height": 87
        },
        "outputId": "7f8fe535-4930-42be-892c-6808fb10b763"
      },
      "source": [
        "#Recall score\n",
        "from sklearn.metrics import recall_score\n",
        "print(recall_score(y_test,ypred,average='weighted'))\n",
        "#PRECISION score\n",
        "from sklearn.metrics import precision_score\n",
        "print(precision_score(y_test,ypred,average='weighted'))\n",
        "#F1 Score\n",
        "from sklearn.metrics import f1_score\n",
        "print(f1_score(y_test,ypred,average='weighted'))\n",
        "#ROC AUC score\n",
        "from sklearn.metrics import roc_auc_score\n",
        "print(roc_auc_score(y_test,ypred2,average='weighted',multi_class='ovr'))"
      ],
      "execution_count": null,
      "outputs": [
        {
          "output_type": "stream",
          "text": [
            "0.9989980162746448\n",
            "0.9989776231979384\n",
            "0.9989745632879258\n",
            "0.9938311750712768\n"
          ],
          "name": "stdout"
        }
      ]
    },
    {
      "cell_type": "code",
      "metadata": {
        "id": "hf4qNdsGUIuM",
        "colab": {
          "base_uri": "https://localhost:8080/",
          "height": 104
        },
        "outputId": "ced0f15e-4b64-47ab-9277-b3743a781d92"
      },
      "source": [
        "#Confusion matrix\n",
        "from sklearn.metrics import confusion_matrix\n",
        "cm=confusion_matrix(ypred,y_test)\n",
        "print(cm)"
      ],
      "execution_count": null,
      "outputs": [
        {
          "output_type": "stream",
          "text": [
            "[[78175     9    38     0     0]\n",
            " [    6 19558    12     9     6]\n",
            " [    2     6   771     0     0]\n",
            " [    0    10     0   199     0]\n",
            " [    0     1     0     0     2]]\n"
          ],
          "name": "stdout"
        }
      ]
    },
    {
      "cell_type": "code",
      "metadata": {
        "id": "nLrPsuB5UW6o",
        "colab": {
          "base_uri": "https://localhost:8080/",
          "height": 265
        },
        "outputId": "dac1f6cf-61ee-4fdf-e0a4-c852113b35cd"
      },
      "source": [
        "import matplotlib.pyplot as plt\n",
        "plt.scatter(y_test,ypred)\n",
        "plt.show()"
      ],
      "execution_count": null,
      "outputs": [
        {
          "output_type": "display_data",
          "data": {
            "image/png": "[encoded data removed]",
            "text/plain": [
              "<Figure size 432x288 with 1 Axes>"
            ]
          },
          "metadata": {
            "tags": [],
            "needs_background": "light"
          }
        }
      ]
    },
    {
      "cell_type": "code",
      "metadata": {
        "id": "oSWaJDApUif7",
        "colab": {
          "base_uri": "https://localhost:8080/",
          "height": 35
        },
        "outputId": "4a6d5653-61bd-4d02-9275-0a2c2a5c285d"
      },
      "source": [
        "#Naive-Bayes\n",
        "\n",
        "from sklearn.naive_bayes import GaussianNB\n",
        "clf2=GaussianNB()\n",
        "import time\n",
        "st=time.time()\n",
        "clf2.fit(X_train,y_train)\n",
        "et=time.time()\n",
        "print(\"Training Time: \",et-st)"
      ],
      "execution_count": null,
      "outputs": [
        {
          "output_type": "stream",
          "text": [
            "Training Time:  0.3022117614746094\n"
          ],
          "name": "stdout"
        }
      ]
    },
    {
      "cell_type": "code",
      "metadata": {
        "id": "VbU94KJEUoxi",
        "colab": {
          "base_uri": "https://localhost:8080/",
          "height": 69
        },
        "outputId": "d8b0fad4-804b-48f7-f8f5-b4f3aafb1505"
      },
      "source": [
        "#Accuracy\n",
        "print(clf2.score(X_test,y_test))\n",
        "st=time.time()\n",
        "ypred=clf2.predict(X_test)\n",
        "et=time.time()\n",
        "print(\"Prediction Time: \",et-st)\n",
        "ypred2=clf.predict_proba(X_test)\n",
        "#Missclassification\n",
        "mc=1-score\n",
        "print(mc)"
      ],
      "execution_count": null,
      "outputs": [
        {
          "output_type": "stream",
          "text": [
            "0.9002874377555564\n",
            "Prediction Time:  0.12041521072387695\n",
            "0.019017448686287963\n"
          ],
          "name": "stdout"
        }
      ]
    },
    {
      "cell_type": "code",
      "metadata": {
        "id": "VpGjuxPMUtON",
        "colab": {
          "base_uri": "https://localhost:8080/",
          "height": 87
        },
        "outputId": "2b4c2027-b421-4808-8699-536633f67bf6"
      },
      "source": [
        "#Recall score\n",
        "from sklearn.metrics import recall_score\n",
        "print(recall_score(y_test,ypred,average='weighted'))\n",
        "#PRECISION score\n",
        "from sklearn.metrics import precision_score\n",
        "print(precision_score(y_test,ypred,average='weighted'))\n",
        "#F1 Score\n",
        "from sklearn.metrics import f1_score\n",
        "print(f1_score(y_test,ypred,average='weighted'))\n",
        "#ROC AUC score\n",
        "from sklearn.metrics import roc_auc_score\n",
        "print(roc_auc_score(y_test,ypred2,average='weighted',multi_class='ovr'))"
      ],
      "execution_count": null,
      "outputs": [
        {
          "output_type": "stream",
          "text": [
            "0.9002874377555564\n",
            "0.9091063752580077\n",
            "0.8941182889927416\n",
            "0.9938311750712768\n"
          ],
          "name": "stdout"
        }
      ]
    },
    {
      "cell_type": "code",
      "metadata": {
        "id": "LNAQpMN0U-yt",
        "colab": {
          "base_uri": "https://localhost:8080/",
          "height": 104
        },
        "outputId": "0441c970-7543-40e8-c4a8-06b444c70340"
      },
      "source": [
        "#Confusion matrix\n",
        "from sklearn.metrics import confusion_matrix\n",
        "cm=confusion_matrix(ypred,y_test)\n",
        "print(cm)"
      ],
      "execution_count": null,
      "outputs": [
        {
          "output_type": "stream",
          "text": [
            "[[77694  7011   528    10     0]\n",
            " [  426 11230   186    57     2]\n",
            " [    4   233    17     6     0]\n",
            " [    0    29     0     5     0]\n",
            " [   59  1081    90   130     6]]\n"
          ],
          "name": "stdout"
        }
      ]
    },
    {
      "cell_type": "code",
      "metadata": {
        "id": "BD4L39NvVVic",
        "colab": {
          "base_uri": "https://localhost:8080/",
          "height": 265
        },
        "outputId": "cbb42382-857d-471f-a909-499a3f6ee437"
      },
      "source": [
        "import matplotlib.pyplot as plt\n",
        "plt.scatter(y_test,ypred)\n",
        "plt.show()"
      ],
      "execution_count": null,
      "outputs": [
        {
          "output_type": "display_data",
          "data": {
            "image/png": "[encoded data removed]",
            "text/plain": [
              "<Figure size 432x288 with 1 Axes>"
            ]
          },
          "metadata": {
            "tags": [],
            "needs_background": "light"
          }
        }
      ]
    },
    {
      "cell_type": "code",
      "metadata": {
        "id": "_ndEMaDFVbCn",
        "colab": {
          "base_uri": "https://localhost:8080/",
          "height": 35
        },
        "outputId": "26e9d553-70b8-4e91-c11a-d5f818785c9e"
      },
      "source": [
        "#Decision Tree Classifier\n",
        "from sklearn.tree import DecisionTreeClassifier\n",
        "clf2=DecisionTreeClassifier()\n",
        "import time\n",
        "st=time.time()\n",
        "clf2.fit(X_train,y_train)\n",
        "et=time.time()\n",
        "print(\"Training Time: \",et-st)"
      ],
      "execution_count": null,
      "outputs": [
        {
          "output_type": "stream",
          "text": [
            "Training Time:  1.9907472133636475\n"
          ],
          "name": "stdout"
        }
      ]
    },
    {
      "cell_type": "code",
      "metadata": {
        "id": "0wc5_NegV0WI",
        "colab": {
          "base_uri": "https://localhost:8080/",
          "height": 69
        },
        "outputId": "d2d8b685-7786-494d-8ffd-1ebdf1e520e9"
      },
      "source": [
        "#Accuracy\n",
        "print(clf2.score(X_test,y_test))\n",
        "st=time.time()\n",
        "ypred=clf2.predict(X_test)\n",
        "et=time.time()\n",
        "print(\"Prediction Time: \",et-st)\n",
        "ypred2=clf.predict_proba(X_test)\n",
        "#Missclassification\n",
        "mc=1-score\n",
        "print(mc)"
      ],
      "execution_count": null,
      "outputs": [
        {
          "output_type": "stream",
          "text": [
            "0.9997773369499211\n",
            "Prediction Time:  0.024661779403686523\n",
            "0.019017448686287963\n"
          ],
          "name": "stdout"
        }
      ]
    },
    {
      "cell_type": "code",
      "metadata": {
        "id": "m0mOqlzOV8ZN",
        "colab": {
          "base_uri": "https://localhost:8080/",
          "height": 87
        },
        "outputId": "57f167c0-9bec-40e8-c1df-b72bed0cce9d"
      },
      "source": [
        "#Recall score\n",
        "from sklearn.metrics import recall_score\n",
        "print(recall_score(y_test,ypred,average='weighted'))\n",
        "#PRECISION score\n",
        "from sklearn.metrics import precision_score\n",
        "print(precision_score(y_test,ypred,average='weighted'))\n",
        "#F1 Score\n",
        "from sklearn.metrics import f1_score\n",
        "print(f1_score(y_test,ypred,average='weighted'))\n",
        "#ROC AUC score\n",
        "from sklearn.metrics import roc_auc_score\n",
        "print(roc_auc_score(y_test,ypred2,average='weighted',multi_class='ovr'))"
      ],
      "execution_count": null,
      "outputs": [
        {
          "output_type": "stream",
          "text": [
            "0.9997773369499211\n",
            "0.9997872658852202\n",
            "0.9997816413018454\n",
            "0.9938311750712768\n"
          ],
          "name": "stdout"
        }
      ]
    },
    {
      "cell_type": "code",
      "metadata": {
        "id": "gxZiSnMyWGGN",
        "colab": {
          "base_uri": "https://localhost:8080/",
          "height": 104
        },
        "outputId": "341e5195-f8c8-4c4a-9d6f-e234e59c05aa"
      },
      "source": [
        "#Confusion matrix\n",
        "from sklearn.metrics import confusion_matrix\n",
        "cm=confusion_matrix(ypred,y_test)\n",
        "print(cm)"
      ],
      "execution_count": null,
      "outputs": [
        {
          "output_type": "stream",
          "text": [
            "[[78178     0     0     0     0]\n",
            " [    4 19576     0     2     3]\n",
            " [    1     3   821     0     0]\n",
            " [    0     4     0   202     0]\n",
            " [    0     1     0     4     5]]\n"
          ],
          "name": "stdout"
        }
      ]
    },
    {
      "cell_type": "code",
      "metadata": {
        "id": "VE-YaiG6WXxK",
        "colab": {
          "base_uri": "https://localhost:8080/",
          "height": 265
        },
        "outputId": "f305862e-594e-46be-800e-fe96444c3806"
      },
      "source": [
        "import matplotlib.pyplot as plt\n",
        "plt.scatter(y_test,ypred)\n",
        "plt.show()"
      ],
      "execution_count": null,
      "outputs": [
        {
          "output_type": "display_data",
          "data": {
            "image/png": "[encoded data removed]",
            "text/plain": [
              "<Figure size 432x288 with 1 Axes>"
            ]
          },
          "metadata": {
            "tags": [],
            "needs_background": "light"
          }
        }
      ]
    },
    {
      "cell_type": "code",
      "metadata": {
        "id": "ywlh3qqyWddK",
        "colab": {
          "base_uri": "https://localhost:8080/",
          "height": 35
        },
        "outputId": "480b1151-20cd-4f57-95f8-b11e88ad0c58"
      },
      "source": [
        "#RandomForestClassifier\n",
        "\n",
        "from sklearn.ensemble import RandomForestClassifier\n",
        "clf2=RandomForestClassifier()\n",
        "import time\n",
        "st=time.time()\n",
        "clf2.fit(X_train,y_train)\n",
        "et=time.time()\n",
        "print(\"Training Time: \",et-st)"
      ],
      "execution_count": null,
      "outputs": [
        {
          "output_type": "stream",
          "text": [
            "Training Time:  25.16708993911743\n"
          ],
          "name": "stdout"
        }
      ]
    },
    {
      "cell_type": "code",
      "metadata": {
        "id": "iFJjcaYl5mLl",
        "colab": {
          "base_uri": "https://localhost:8080/",
          "height": 69
        },
        "outputId": "2f2fcce4-b92b-448b-ed1b-503e39a0e10b"
      },
      "source": [
        "#Accuracy\n",
        "print(clf2.score(X_test,y_test))\n",
        "st=time.time()\n",
        "ypred=clf2.predict(X_test)\n",
        "et=time.time()\n",
        "print(\"Prediction Time: \",et-st)\n",
        "ypred2=clf.predict_proba(X_test)\n",
        "#Missclassification\n",
        "mc=1-score\n",
        "print(mc)"
      ],
      "execution_count": null,
      "outputs": [
        {
          "output_type": "stream",
          "text": [
            "0.9997975790453828\n",
            "Prediction Time:  0.9454472064971924\n",
            "0.019017448686287963\n"
          ],
          "name": "stdout"
        }
      ]
    },
    {
      "cell_type": "code",
      "metadata": {
        "id": "HSDtomMW51ef",
        "colab": {
          "base_uri": "https://localhost:8080/",
          "height": 87
        },
        "outputId": "0148ef7d-4430-405c-9490-60a405b8f473"
      },
      "source": [
        "#Recall score\n",
        "from sklearn.metrics import recall_score\n",
        "print(recall_score(y_test,ypred,average='weighted'))\n",
        "#PRECISION score\n",
        "from sklearn.metrics import precision_score\n",
        "print(precision_score(y_test,ypred,average='weighted'))\n",
        "#F1 Score\n",
        "from sklearn.metrics import f1_score\n",
        "print(f1_score(y_test,ypred,average='weighted'))\n",
        "#ROC AUC score\n",
        "from sklearn.metrics import roc_auc_score\n",
        "print(roc_auc_score(y_test,ypred2,average='weighted',multi_class='ovr'))"
      ],
      "execution_count": null,
      "outputs": [
        {
          "output_type": "stream",
          "text": [
            "0.9997975790453828\n",
            "0.9997970620230521\n",
            "0.9997969775401923\n",
            "0.9938311750712768\n"
          ],
          "name": "stdout"
        }
      ]
    },
    {
      "cell_type": "code",
      "metadata": {
        "id": "OtGMubjJ5_v0",
        "colab": {
          "base_uri": "https://localhost:8080/",
          "height": 104
        },
        "outputId": "2ef7f1f0-972a-4997-f153-d568d57cb4c7"
      },
      "source": [
        "#Confusion matrix\n",
        "from sklearn.metrics import confusion_matrix\n",
        "cm=confusion_matrix(ypred,y_test)\n",
        "print(cm)"
      ],
      "execution_count": null,
      "outputs": [
        {
          "output_type": "stream",
          "text": [
            "[[78182     0     0     0     0]\n",
            " [    0 19581     5     4     3]\n",
            " [    1     1   816     0     0]\n",
            " [    0     1     0   201     1]\n",
            " [    0     1     0     3     4]]\n"
          ],
          "name": "stdout"
        }
      ]
    },
    {
      "cell_type": "code",
      "metadata": {
        "id": "2M1Gp5396DYN",
        "colab": {
          "base_uri": "https://localhost:8080/",
          "height": 265
        },
        "outputId": "42ba4cdd-7341-400f-b643-7ec2eb72bce3"
      },
      "source": [
        "import matplotlib.pyplot as plt\n",
        "plt.scatter(y_test,ypred)\n",
        "plt.show()"
      ],
      "execution_count": null,
      "outputs": [
        {
          "output_type": "display_data",
          "data": {
            "image/png": "[encoded data removed]",
            "text/plain": [
              "<Figure size 432x288 with 1 Axes>"
            ]
          },
          "metadata": {
            "tags": [],
            "needs_background": "light"
          }
        }
      ]
    },
    {
      "cell_type": "markdown",
      "metadata": {
        "id": "k1VV9vOXvJjY"
      },
      "source": [
        "### Performance Evaluation\n",
        "|Sr No| Classifier| Training Time| Prediction Time|Accuracy|Miss-Claa|Precision|Recall|F1-Measure|Kohen'Kappa|AUC|ROC|\n",
        "|---|---|"
      ]
    },
    {
      "cell_type": "markdown",
      "metadata": {
        "id": "Dm0muouqC7QC"
      },
      "source": [
        "|Classfier Name|Tr Time|Pred Time|Accuracy|Missclassification|Precision|Recall|F1-measure|AUC ROC|\n",
        "|----    |:---:|:---:|:---:|:---:|:---:|:---:|:---:|:---::---:|\n",
        "|Logistic Regression    |58.64835858345032|0.03470301628112793|0.980982551313712|0.019017448686287963|0.9734609195058377|0.980982551313712|0.9760047680606279|0.9938311750712768\n",
        "|Linear Discrimant Analysis (LDA)    |3.2751641273498535|0.03682088851928711|0.9915590461924618|0.019017448686287963|0.9919287652967451|0.9915590461924618|0.9916858993768256|0.9938311750712768||\n",
        "|KNN   |124.59625959396362|775.3274972438812|0.9989980162746448|0.019017448686287963|0.9989776231979384|0.9989980162746448|0.9916858993768256|0.9938311750712768||\n",
        "|Naive-Bayes |0.3022117614746094|0.12041521072387695|0.9002874377555564|0.019017448686287963|0.9091063752580077|0.9002874377555564|0.8941182889927416|0.9938311750712768||\n",
        "|Decision Tree   |1.9907472133636475|0.024661779403686523|0.9997773369499211|0.019017448686287963|0.9997872658852202|0.9997773369499211|0.9997816413018454|0.9938311750712768||\n",
        "|Random Forest   |25.16708993911743|0.9454472064971924|0.9997975790453828|0.019017448686287963|0.9997970620230521|0.9997975790453828|0.9997969775401923|0.9938311750712768||\n",
        "\n",
        "\n"
      ]
    },
    {
      "cell_type": "markdown",
      "metadata": {
        "id": "7xR_hABsWQEO"
      },
      "source": [
        "CONCLUSION:\n",
        "\n",
        "Thus the above mentioned 6 classifiers were used for the analysis of the KDDCUP IDS Dataset & the results are tabulated above."
      ]
    }
  ]
}